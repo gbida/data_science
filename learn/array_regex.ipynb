{
 "cells": [
  {
   "cell_type": "markdown",
   "metadata": {},
   "source": [
    "# regex"
   ]
  },
  {
   "cell_type": "code",
   "execution_count": 7,
   "metadata": {},
   "outputs": [],
   "source": [
    "import re\n",
    "\n",
    "\n",
    "with open('../공공데이터수업과제/Data/subwayfee.csv',\\\n",
    "\tmode='r', encoding='utf-8') as f:\n",
    "\tdata = f.read()\n",
    "\n",
    "# 정규표현식으로 데이터에서 노선 정보만 찾기\n",
    "subway_line = re.findall('(?<=,).+선', data)\n",
    "len(subway_line)"
   ]
  },
  {
   "cell_type": "code",
   "execution_count": 1,
   "metadata": {},
   "outputs": [
    {
     "data": {
      "text/plain": [
       "(8, 616)"
      ]
     },
     "execution_count": 1,
     "metadata": {},
     "output_type": "execute_result"
    }
   ],
   "source": [
    "# 데이터의 행열 계산\n",
    "def shape(data):\n",
    "\trow = len(data[0])\n",
    "\tcolumn = len(data)\n",
    "\treturn row, column\n",
    "\n",
    "\n",
    "subwayData = []\n",
    "\n",
    "with open('../공공데이터수업과제/Data/subwayfee.csv',\\\n",
    "\tmode='r', encoding='utf-8') as f:\n",
    "\tfor line in f.readlines():\n",
    "\t\tsubwayData.append(line.split(','))\n",
    "\n",
    "shape(subwayData)"
   ]
  },
  {
   "cell_type": "markdown",
   "metadata": {},
   "source": [
    "---\n",
    "# array"
   ]
  },
  {
   "cell_type": "code",
   "execution_count": 14,
   "metadata": {},
   "outputs": [
    {
     "name": "stdout",
     "output_type": "stream",
     "text": [
      "[[0], [1], [2]]\n",
      "[[3], [4], [5]]\n",
      "\n",
      "[0, 1, 2]\n",
      "[1, 2, 3]\n",
      "\n",
      "[0, 1]\n",
      "[1, 2]\n",
      "[2, 3]\n"
     ]
    }
   ],
   "source": [
    "i = 0\n",
    "j = 0\n",
    "\n",
    "# 2행 3열 만들기(1)\n",
    "arrays = [[[0],[1],[2]], [[3],[4],[5]]]\n",
    "for arr in arrays:\n",
    "\tprint(arr)\n",
    "print()\n",
    "\n",
    "# 2행 3열 만들기(2)\n",
    "arrays2 = [[],[]]\n",
    "for i in range(2):\n",
    "\tfor j in range(3):\n",
    "\t\tarrays2[i].append(i+j)\n",
    "print(*arrays2, sep='\\n')\n",
    "print()\n",
    "\n",
    "# 2행 3열 데이터를 3행 2열로 바꾸기\n",
    "arrays3 = [[[], []],[[], []],[[], []]]\n",
    "for i in range(3):\n",
    "\tfor j in range(2):\n",
    "\t\tarrays3[i][j] = arrays2[j][i]\n",
    "print(*arrays3, sep='\\n')\n"
   ]
  }
 ],
 "metadata": {
  "kernelspec": {
   "display_name": "Python 3.9.13 64-bit",
   "language": "python",
   "name": "python3"
  },
  "language_info": {
   "codemirror_mode": {
    "name": "ipython",
    "version": 3
   },
   "file_extension": ".py",
   "mimetype": "text/x-python",
   "name": "python",
   "nbconvert_exporter": "python",
   "pygments_lexer": "ipython3",
   "version": "3.9.13"
  },
  "orig_nbformat": 4,
  "vscode": {
   "interpreter": {
    "hash": "756fa8430cc473c6206bc48a2946f179c5cd918bfcc6504cdaebc17ae54442b7"
   }
  }
 },
 "nbformat": 4,
 "nbformat_minor": 2
}
