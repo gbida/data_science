{
 "cells": [
  {
   "cell_type": "markdown",
   "metadata": {},
   "source": [
    "# 출근시간대 최대 하차인원 탑승역\n",
    "\n",
    "- 날짜범위: 2022년 6월\n",
    "- 출근시간: 7시~8시\n",
    "- 노선구간: 1~7호선"
   ]
  },
  {
   "cell_type": "code",
   "execution_count": null,
   "metadata": {},
   "outputs": [],
   "source": [
    "import pandas as pd\n",
    "import numpy as np\n",
    "import matplotlib.pyplot as plt\n",
    "import matplotlib.font_manager as fm\n",
    "import platform\n",
    "\n",
    "\n",
    "subway_data = pd.read_csv('seoul_subway_time.csv', thousands=',', )\n",
    "\n",
    "\n",
    "# 필요 데이터 구간만 분리 후 생성\n",
    "hacha = subway_data.iloc[:, [1, 3, 11, 13]]\n",
    "hacha.drop(0, inplace=True)\n",
    "hacha.rename(columns={'Unnamed: 11':'07:00~07:59', 'Unnamed: 13':'08:00~08:59'}, inplace=True)\n",
    "\n",
    "\n",
    "# 일부 데이터 타입 변환 및 최대 하차인원 데이터 컬럼 추가\n",
    "total = hacha.iloc[:, 2:].astype('int64')\n",
    "total = total.iloc[:, 0] + total.iloc[:, 1]\n",
    "hacha.insert(hacha.shape[1], '7~8', total)\n",
    "\n",
    "\n",
    "# lines = 분석할 호선, hacha_max = 최대 하차인원 리스트, max_station = 최대 하차역\n",
    "lines = ['1호선', '2호선', '3호선', '4호선', '5호선', '6호선', '7호선']\n",
    "line_group = hacha.groupby('호선명')\n",
    "hacha_max = [line_group.get_group(line)['7~8'].max() for line in lines]\n",
    "max_station = []\n",
    "for max in hacha_max:\n",
    "\tidx = hacha['지하철역'][hacha['7~8']==max].index[0]\n",
    "\tmax_station.append(hacha.iloc[(idx-1), 1])\n",
    "\n",
    "\n",
    "# 운영체제별 한글 폰트 설정\n",
    "if platform.system() == 'Windows':\n",
    "\tfont_name = fm.FontProperties(fname='../font/malgun.ttf').get_name()\n",
    "\tplt.rc('font', family=font_name, size=11)\n",
    "else:\n",
    "\tplt.rc('font', family='AppleGothic', size=8)\n",
    "\n",
    "\n",
    "# 실행 결과문 출력\n",
    "for line, station, max in zip(lines, max_station, hacha_max):\n",
    "\tprint(f'출근 시간대 {line} 최대 하차역은 {station}역이고 하차인원은 {max:,}명 입니다.')\n",
    "\n",
    "\n",
    "\n",
    "# 데이터 시각화\n",
    "plt.figure(dpi=100)\n",
    "plt.title('출근 시간대 지하철 노선별 최대 하차 인원 및 하차역', fontsize=20)\n",
    "xlabels = [line+':'+station for line, station in zip(lines, max_station)]\n",
    "plt.bar(xlabels, hacha_max)\n",
    "plt.xticks(rotation=60)\n",
    "# 선 그래프 추가\n",
    "plt.plot(hacha_max, marker='o', color='k')\n",
    "# 그래프에 값 표시\n",
    "for x, y in zip(np.arange(7), hacha_max):\n",
    "\tplt.text(x, y, y,\\\n",
    "\t\tfontsize=10,\\\n",
    "\t\t\tcolor='k',\\\n",
    "\t\t\t\thorizontalalignment='center',\\\n",
    "\t\t\t\t\tverticalalignment='bottom')\n",
    "plt.show()"
   ]
  }
 ],
 "metadata": {
  "kernelspec": {
   "display_name": "Python 3.9.13 64-bit",
   "language": "python",
   "name": "python3"
  },
  "language_info": {
   "codemirror_mode": {
    "name": "ipython",
    "version": 3
   },
   "file_extension": ".py",
   "mimetype": "text/x-python",
   "name": "python",
   "nbconvert_exporter": "python",
   "pygments_lexer": "ipython3",
   "version": "3.9.13"
  },
  "orig_nbformat": 4,
  "vscode": {
   "interpreter": {
    "hash": "756fa8430cc473c6206bc48a2946f179c5cd918bfcc6504cdaebc17ae54442b7"
   }
  }
 },
 "nbformat": 4,
 "nbformat_minor": 2
}
