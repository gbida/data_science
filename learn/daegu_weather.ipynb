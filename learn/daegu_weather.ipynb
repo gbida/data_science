{
 "cells": [
  {
   "cell_type": "markdown",
   "metadata": {},
   "source": [
    "# 대구 날씨 분석\n",
    "\n",
    "- 기간: 1904.01 ~ 2017.06\n",
    "- 출처: [기상자료개방포털](https://data.kma.go.kr)\n",
    "- dgWeahter: 원본\n",
    "- dgWeather(utf-8): 0~7행 삭제, 누락값 제거, utf-8 인코딩"
   ]
  },
  {
   "cell_type": "code",
   "execution_count": null,
   "metadata": {},
   "outputs": [],
   "source": [
    "## install module\n",
    "# %pip install jupyter notebook -U\n",
    "# %pip install pandas\n",
    "# %pip install matplotlib\n",
    "# %pip list"
   ]
  },
  {
   "cell_type": "code",
   "execution_count": null,
   "metadata": {},
   "outputs": [],
   "source": [
    "## linux command\n",
    "# 현재 위치, 현재 위치 안의 자료 리스트\n",
    "# %pwd\n",
    "# %ls"
   ]
  },
  {
   "cell_type": "code",
   "execution_count": null,
   "metadata": {},
   "outputs": [],
   "source": [
    "# 운영체제 플랫폼에 따른 한글 폰트 설정\n",
    "import platform\n",
    "import matplotlib.pyplot as plt\n",
    "import matplotlib.font_manager as fm\n",
    "\n",
    "\n",
    "system_name = platform.system()\n",
    "if system_name == 'Windows':  # Windows 운영체제\n",
    "\tprint('Windows OS')\n",
    "\tplt.rc('font', family='Malgun Gothic')\n",
    "elif system_name == 'Darwin':  # Mac OS\n",
    "\tprint('Mac OS')\n",
    "\tplt.rc('font', family='AppleGothic')\n",
    "elif system_name == 'Linux':  # Linux\n",
    "\tprint('Linux OS')\n",
    "\tpath = '/usr/share/fonts/truetype/nanum/NanumMyeongjo.ttf'\n",
    "\tfont_name = fm.FontProperties(fname=path, size=12)\n",
    "\tplt.rc('font', family=font_name)\n",
    "else:\n",
    "\tprint(\"will be support\")"
   ]
  },
  {
   "cell_type": "markdown",
   "metadata": {},
   "source": [
    "---\n",
    "# 가장 더웠던 날\n",
    "\n",
    "1. csv로 찾는 방법\n",
    "2. numpy로 찾는 방법"
   ]
  },
  {
   "cell_type": "code",
   "execution_count": null,
   "metadata": {},
   "outputs": [],
   "source": [
    "import csv\n",
    "\n",
    "\n",
    "f = open('../data/dgWeather.csv', mode='r', encoding='utf-8')\n",
    "data = csv.reader(f, delimiter=',')\n",
    "header = next(data)  # 컬럼 첫번째 줄 header에 담기\n",
    "\n",
    "max_temp = -999  # 최저값 미리 설정\n",
    "max_date = ''  # 빈 줄이 아닐 경우를 의미\n",
    "\n",
    "# 최대값 구하는 알고리즘\n",
    "for row in data:\n",
    "    if row[-1] == '':\n",
    "        row[-1] = -999\n",
    "    row[-1] = float(row[-1])\n",
    "    \n",
    "    if(max_temp < row[-1]):\n",
    "        max_temp = row[-1]\n",
    "        max_date = row[0]\n",
    "f.close()\n",
    "\n",
    "print(f'대구 기온이 가장 높았던 날은 {max_date}로 {max_temp}도 였습니다.')"
   ]
  },
  {
   "cell_type": "code",
   "execution_count": null,
   "metadata": {},
   "outputs": [],
   "source": [
    "import csv\n",
    "import numpy as np\n",
    "\n",
    "\n",
    "f = open('../data/dgWeather.csv', mode='r', encoding='utf-8')\n",
    "data = csv.reader(f, delimiter=',')\n",
    "header = next(data)\n",
    "\n",
    "max_temp = -999\n",
    "max_date = ''\n",
    "max_temp_list = []\n",
    "max_temp_date = []\n",
    "\n",
    "for row in data:\n",
    "    if row[-1] == '':\n",
    "        row[-1] = -999\n",
    "    max_temp_list.append(row[-1])\n",
    "    max_temp_date.append(row[0])\n",
    "f.close()\n",
    "\n",
    "max_temp_array = np.array(max_temp_list)  # 리스트를 ndarray 타입으로 변경\n",
    "max_temp_array = max_temp_array.astype(float)  # 문자열 타입을 float으로 변경\n",
    "max_date_array = np.array(max_temp_date)  # 리스트를 ndarray 타입으로 변경\n",
    "\n",
    "max_temp = max_temp_array.max()  # 최고온도값\n",
    "index = max_temp_array.argmax()  # 최대값의 index 리턴\n",
    "max_date = max_date_array[index]\n",
    "\n",
    "print(f'대구 기온이 가장 높았던 날은 {max_date}로 {max_temp}도 였습니다.')"
   ]
  },
  {
   "cell_type": "markdown",
   "metadata": {},
   "source": [
    "---\n",
    "## 8월 기온 histogram으로 보기"
   ]
  },
  {
   "cell_type": "code",
   "execution_count": null,
   "metadata": {},
   "outputs": [],
   "source": [
    "import csv\n",
    "import matplotlib.pyplot as plt\n",
    "\n",
    "\n",
    "f = open('../data/dgWeather.csv', mode='r', encoding='utf-8')\n",
    "data = csv.reader(f)\n",
    "header = next(data)\n",
    "\n",
    "aug = []\n",
    "for row in data:\n",
    "    month = row[0].split('.')[1]\n",
    "    if row[-1] != '':\n",
    "        if month == '08':\n",
    "            aug.append(float(row[-1]))\n",
    "f.close()\n",
    "\n",
    "plt.hist(aug, bins=100, color='tomato')\n",
    "plt.xlabel('Temerature')\n",
    "plt.ylabel('Counts')\n",
    "plt.show()"
   ]
  },
  {
   "cell_type": "markdown",
   "metadata": {},
   "source": [
    "---\n",
    "## 1월과 8월의 기온 분포"
   ]
  },
  {
   "cell_type": "code",
   "execution_count": null,
   "metadata": {},
   "outputs": [],
   "source": [
    "import csv\n",
    "import matplotlib.pyplot as plt\n",
    "import pandas as pd\n",
    "\n",
    "\n",
    "f = open('../data/dgWeather.csv', mode='r', encoding='utf-8')\n",
    "data = csv.reader(f)\n",
    "header = next(data)\n",
    "\n",
    "aug = []\n",
    "jan = []\n",
    "for row in data:\n",
    "    month = row[0].split('-')[1]\n",
    "    if row[-1] != '':\n",
    "        if month == '01':\n",
    "            aug.append(float(row[-1]))\n",
    "        if month == '08':\n",
    "            jan.append(float(row[-1]))\n",
    "f.close()\n",
    "\n",
    "plt.hist(jan, bins=100, color='green', label='Jan')\n",
    "plt.hist(aug, bins=100, color='tomato', label='Aug')\n",
    "plt.xlabel('Temerature')\n",
    "plt.rc('axes', unicode_minus=False)\n",
    "plt.legend()\n",
    "plt.show()"
   ]
  },
  {
   "cell_type": "markdown",
   "metadata": {},
   "source": [
    "---\n",
    "## 특정 날짜의 최고 기온 찾기"
   ]
  },
  {
   "cell_type": "code",
   "execution_count": null,
   "metadata": {},
   "outputs": [],
   "source": [
    "import csv\n",
    "import matplotlib.pyplot as plt\n",
    "\n",
    "\n",
    "def draw_graph_on_date(month, day):\n",
    "\t# 1월 1일을 01 01이 아닌 1 1로 입력했을 경우\n",
    "\tif not '0' in month and '0'  not in day:\n",
    "\t\tmonth = '0' + month\n",
    "\t\tday = '0' + day\n",
    "\t\t\n",
    "\tf = open('../data/dgWeather.csv', mode='r', encoding='utf-8')\n",
    "\tdata = csv.reader(f)\n",
    "\tnext(data)\n",
    "\t\n",
    "\tresult = []\n",
    "\tfor row in data:\n",
    "\t\tif row[-1] != '':\n",
    "\t\t\tdate_string = row[0].split('-')\n",
    "\t\t\tif date_string[1] == month and date_string[2] == day:\n",
    "\t\t\t\tresult.append(float(row[-1]))\n",
    "\tf.close()\n",
    "\n",
    "\tplt.figure(figsize=(15,2))\n",
    "\tplt.plot(result, 'royalblue')\n",
    "\tplt.ylabel('온도')\n",
    "\tplt.show()\n",
    "\n",
    "# month, date = input('날짜(월 일) 입력 ').split()\n",
    "month, date = '6', '6'\n",
    "draw_graph_on_date(month, date)"
   ]
  },
  {
   "cell_type": "markdown",
   "metadata": {},
   "source": [
    "---\n",
    "# pandas로 기온 데이터 분석하기"
   ]
  },
  {
   "cell_type": "code",
   "execution_count": null,
   "metadata": {},
   "outputs": [],
   "source": [
    "import pandas as pd\n",
    "\n",
    "\n",
    "dg_weather = pd.read_csv('../data/dgWeather.csv')\n",
    "dg_weather.columns=['날짜', '지점', '평균기온', '최저기온', '최고기온']\n",
    "dg_weather['날짜'] = pd.to_datetime(dg_weather['날짜'], format='%Y-%m-%d')\n",
    "\n",
    "# count()는 누락값을 제외한 정상값의 갯수만 카운트\n",
    "# 전체 행에서 정상값 갯수 빼기\n",
    "dg_weather.shape[0]- dg_weather.count()\n",
    "\n",
    "# 누락값 제거\n",
    "dg_weather = dg_weather.dropna(axis=0)\n",
    "\n",
    "# 누락값 제거된 최종 데이터를 csv파일로 저장\n",
    "dg_weather.to_csv('../data/dgWeahter(utf-8).csv', index=False, mode='w', encoding='utf-8')"
   ]
  },
  {
   "cell_type": "markdown",
   "metadata": {},
   "source": [
    "---\n",
    "## 2021년 7월 최고기온 평균값"
   ]
  },
  {
   "cell_type": "code",
   "execution_count": null,
   "metadata": {},
   "outputs": [],
   "source": [
    "year_data = dg_weather[dg_weather['날짜'].dt.year==2021]\n",
    "month_data = year_data[year_data['날짜'].dt.month==7]"
   ]
  }
 ],
 "metadata": {
  "kernelspec": {
   "display_name": "Python 3.9.13 64-bit",
   "language": "python",
   "name": "python3"
  },
  "language_info": {
   "codemirror_mode": {
    "name": "ipython",
    "version": 3
   },
   "file_extension": ".py",
   "mimetype": "text/x-python",
   "name": "python",
   "nbconvert_exporter": "python",
   "pygments_lexer": "ipython3",
   "version": "3.9.13"
  },
  "orig_nbformat": 4,
  "vscode": {
   "interpreter": {
    "hash": "756fa8430cc473c6206bc48a2946f179c5cd918bfcc6504cdaebc17ae54442b7"
   }
  }
 },
 "nbformat": 4,
 "nbformat_minor": 2
}
