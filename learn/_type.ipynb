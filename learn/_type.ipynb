{
 "cells": [
  {
   "cell_type": "markdown",
   "source": [
    "# convert DataFrame type"
   ],
   "metadata": {
    "collapsed": false,
    "pycharm": {
     "name": "#%% md\n"
    }
   }
  },
  {
   "cell_type": "code",
   "execution_count": 2,
   "outputs": [],
   "source": [
    "import numpy\n",
    "import pandas"
   ],
   "metadata": {
    "collapsed": false,
    "pycharm": {
     "name": "#%%\n"
    }
   }
  },
  {
   "cell_type": "markdown",
   "source": [
    "컬럼 설정 안하면 RangeIndex(숫자)로 생성"
   ],
   "metadata": {
    "collapsed": false,
    "pycharm": {
     "name": "#%% md\n"
    }
   }
  },
  {
   "cell_type": "code",
   "execution_count": 3,
   "outputs": [
    {
     "name": "stdout",
     "output_type": "stream",
     "text": [
      "            0        1\n",
      "0         C++  windows\n",
      "1      python    linux\n",
      "2  javascript     unix\n",
      "RangeIndex(start=0, stop=2, step=1)\n"
     ]
    }
   ],
   "source": [
    "dfdata = pandas.DataFrame([['C++', 'windows'],\n",
    "                            ['python', 'linux'],\n",
    "                            ['javascript', 'unix']])\n",
    "print(dfdata)\n",
    "print(dfdata.columns)"
   ],
   "metadata": {
    "collapsed": false,
    "pycharm": {
     "name": "#%%\n"
    }
   }
  },
  {
   "cell_type": "markdown",
   "source": [
    "컬럼 설정 했을때"
   ],
   "metadata": {
    "collapsed": false,
    "pycharm": {
     "name": "#%% md\n"
    }
   }
  },
  {
   "cell_type": "code",
   "execution_count": 4,
   "outputs": [
    {
     "name": "stdout",
     "output_type": "stream",
     "text": [
      "     day  month   year\n",
      "0  111.0  233.0  322.0\n",
      "1  432.0  511.0  633.0\n",
      "Index(['day', 'month', 'year'], dtype='object')\n"
     ]
    }
   ],
   "source": [
    "dfdata = pandas.DataFrame([['111', '233', '322'], ['432', '511', '633']],\n",
    "                          columns=['day', 'month', 'year'], dtype='float')\n",
    "print(dfdata)\n",
    "print(dfdata.columns)"
   ],
   "metadata": {
    "collapsed": false,
    "pycharm": {
     "name": "#%%\n"
    }
   }
  },
  {
   "cell_type": "markdown",
   "source": [
    "dict type data는 pandas.Series처럼 세로 형태"
   ],
   "metadata": {
    "collapsed": false,
    "pycharm": {
     "name": "#%% md\n"
    }
   }
  },
  {
   "cell_type": "code",
   "execution_count": 6,
   "outputs": [
    {
     "name": "stdout",
     "output_type": "stream",
     "text": [
      "        os     body\n",
      "0      mac   mobile\n",
      "1    linux   laptop\n",
      "2  android  desktop\n",
      "Index(['os', 'body'], dtype='object')\n",
      "object\n"
     ]
    }
   ],
   "source": [
    "dfdata = pandas.DataFrame({'os':['mac', 'linux', 'android'],\n",
    "                           'body':['mobile', 'laptop', 'desktop']})\n",
    "print(dfdata)\n",
    "print(dfdata.columns)\n",
    "print(dfdata['body'].dtype)"
   ],
   "metadata": {
    "collapsed": false,
    "pycharm": {
     "name": "#%%\n"
    }
   }
  },
  {
   "cell_type": "markdown",
   "source": [
    "생성된 DataFrame의 타입 변경은 전체 또는 컬럼별로 설정 가능"
   ],
   "metadata": {
    "collapsed": false,
    "pycharm": {
     "name": "#%% md\n"
    }
   }
  },
  {
   "cell_type": "code",
   "execution_count": 7,
   "outputs": [
    {
     "name": "stdout",
     "output_type": "stream",
     "text": [
      "<class 'pandas.core.frame.DataFrame'>\n",
      "RangeIndex: 3 entries, 0 to 2\n",
      "Data columns (total 2 columns):\n",
      " #   Column  Non-Null Count  Dtype   \n",
      "---  ------  --------------  -----   \n",
      " 0   os      3 non-null      category\n",
      " 1   body    3 non-null      category\n",
      "dtypes: category(2)\n",
      "memory usage: 398.0 bytes\n",
      "None\n"
     ]
    }
   ],
   "source": [
    "dfdata = dfdata.astype('category')\n",
    "print(dfdata.info())"
   ],
   "metadata": {
    "collapsed": false,
    "pycharm": {
     "name": "#%%\n"
    }
   }
  },
  {
   "cell_type": "code",
   "execution_count": 8,
   "outputs": [
    {
     "name": "stdout",
     "output_type": "stream",
     "text": [
      "<class 'pandas.core.frame.DataFrame'>\n",
      "RangeIndex: 3 entries, 0 to 2\n",
      "Data columns (total 2 columns):\n",
      " #   Column  Non-Null Count  Dtype   \n",
      "---  ------  --------------  -----   \n",
      " 0   os      3 non-null      object  \n",
      " 1   body    3 non-null      category\n",
      "dtypes: category(1), object(1)\n",
      "memory usage: 287.0+ bytes\n",
      "None\n"
     ]
    }
   ],
   "source": [
    "dfdata = dfdata.astype({'os': str})\n",
    "print(dfdata.info())"
   ],
   "metadata": {
    "collapsed": false,
    "pycharm": {
     "name": "#%%\n"
    }
   }
  }
 ],
 "metadata": {
  "kernelspec": {
   "display_name": "Python 3",
   "language": "python",
   "name": "python3"
  },
  "language_info": {
   "codemirror_mode": {
    "name": "ipython",
    "version": 2
   },
   "file_extension": ".py",
   "mimetype": "text/x-python",
   "name": "python",
   "nbconvert_exporter": "python",
   "pygments_lexer": "ipython2",
   "version": "2.7.6"
  }
 },
 "nbformat": 4,
 "nbformat_minor": 0
}