{
 "cells": [
  {
   "cell_type": "markdown",
   "metadata": {},
   "source": [
    "# Array what I leared"
   ]
  },
  {
   "cell_type": "code",
   "execution_count": null,
   "metadata": {},
   "outputs": [
    {
     "data": {
      "text/plain": [
       "(8, 616)"
      ]
     },
     "metadata": {},
     "output_type": "display_data"
    }
   ],
   "source": [
    "# 데이터의 행열 찾기\n",
    "def shape(data):\n",
    "\trow = len(data[0])\n",
    "\tcolumn = len(data)\n",
    "\treturn row, column\n",
    "\n",
    "\n",
    "subwayData = []\n",
    "with open('../data/seoul_subway/seoul_subway.csv',\\\n",
    "\tmode='r', encoding='utf-8') as f:\n",
    "\tfor line in f.readlines():\n",
    "\t\tsubwayData.append(line.split(','))\n",
    "\n",
    "shape(subwayData)"
   ]
  },
  {
   "cell_type": "code",
   "execution_count": null,
   "metadata": {},
   "outputs": [],
   "source": [
    "import numpy as np\n",
    "\n",
    "\n",
    "# subwayData의 행열바꾸기  \n",
    "subwayData2 = np.array(subwayData).T"
   ]
  },
  {
   "cell_type": "markdown",
   "metadata": {},
   "source": [
    "numpy의 T로 바꾸면 나오는 dtype='<U16'은 'np.unicode_' 16을 뜻한다.  \n",
    "\n",
    "예시를 위해 만든 data를 보면 np.dtype()은 python에서 클래스 만드는 것과 같다. dtype='object'를 하지 않으면 warning이 뜨는데 np.array로 ndarray 개체를 만들때 예시처럼 리스트 안에 튜플 또는 리스트를 중첩해서 쓰는 기능은 사라진다는 내용이다. 이것을 하려면 대신 dtype='object'로 ndarray를 만들라는 것."
   ]
  },
  {
   "cell_type": "code",
   "execution_count": null,
   "metadata": {},
   "outputs": [
    {
     "name": "stdout",
     "output_type": "stream",
     "text": [
      "<U16\n",
      "('<f8', (2,))\n",
      "\n",
      "['Scalar' (8.0, 9.3)]\n",
      "<class 'numpy.ndarray'>\n"
     ]
    },
    {
     "name": "stderr",
     "output_type": "stream",
     "text": [
      "C:\\Users\\lh\\AppData\\Local\\Temp\\ipykernel_14684\\1289372564.py:7: VisibleDeprecationWarning: Creating an ndarray from ragged nested sequences (which is a list-or-tuple of lists-or-tuples-or ndarrays with different lengths or shapes) is deprecated. If you meant to do this, you must specify 'dtype=object' when creating the ndarray.\n",
      "  x = np.array([('Scalar', (8.0, 9.3)), ('Vector', (9.8, 8.7))])\n"
     ]
    }
   ],
   "source": [
    "# np.float64 뒤의 (2,)는 float data 2개 받겠다는 의미\n",
    "data = np.dtype([('name', np.unicode_, 16), ('grade', np.float64, (2,))])\n",
    "print(data['name'])\n",
    "print(data['grade'])\n",
    "print()\n",
    "\n",
    "# x = np.array([('Scalar', (8.0, 9.3)), ('Vector', (9.8, 8.7))])\n",
    "x = np.array([('Scalar', (8.0, 9.3)), ('Vector', (9.8, 8.7))], dtype='object')\n",
    "print(x[0])\n",
    "# x[0]['grade']  # numpy.org 예제와는 다르게 slice/indices 안된다\n",
    "print(type(x[0]))"
   ]
  },
  {
   "cell_type": "code",
   "execution_count": null,
   "metadata": {},
   "outputs": [
    {
     "name": "stdout",
     "output_type": "stream",
     "text": [
      "[[0], [1], [2]]\n",
      "[[3], [4], [5]]\n",
      "\n",
      "[0, 1, 2]\n",
      "[1, 2, 3]\n",
      "\n",
      "[0, 1]\n",
      "[1, 2]\n",
      "[2, 3]\n"
     ]
    }
   ],
   "source": [
    "i = 0\n",
    "j = 0\n",
    "\n",
    "# 2행 3열 만들기(1)\n",
    "arrays = [[[0],[1],[2]], [[3],[4],[5]]]\n",
    "for arr in arrays:\n",
    "\tprint(arr)\n",
    "print()\n",
    "\n",
    "# 2행 3열 만들기(2)\n",
    "arrays2 = [[],[]]\n",
    "for i in range(2):\n",
    "\tfor j in range(3):\n",
    "\t\tarrays2[i].append(i+j)\n",
    "print(*arrays2, sep='\\n')\n",
    "print()\n",
    "\n",
    "# 2행 3열 데이터를 3행 2열로 바꾸기\n",
    "arrays3 = [[[], []],[[], []],[[], []]]\n",
    "for i in range(3):\n",
    "\tfor j in range(2):\n",
    "\t\tarrays3[i][j] = arrays2[j][i]\n",
    "print(*arrays3, sep='\\n')"
   ]
  },
  {
   "cell_type": "markdown",
   "metadata": {},
   "source": [
    "numpy 기능으로 행렬을 바꾸려면 list로 생성된 개체를 nparray 타입으로 변경해줘야 한다"
   ]
  },
  {
   "cell_type": "code",
   "execution_count": null,
   "metadata": {},
   "outputs": [
    {
     "data": {
      "text/plain": [
       "array([[0, 1],\n",
       "       [1, 2],\n",
       "       [2, 3]])"
      ]
     },
     "metadata": {},
     "output_type": "display_data"
    }
   ],
   "source": [
    "import numpy as np\n",
    "\n",
    "\n",
    "arrays2_2 = np.array(arrays2)\n",
    "arrays2_2.T"
   ]
  },
  {
   "cell_type": "code",
   "execution_count": null,
   "metadata": {},
   "outputs": [
    {
     "name": "stdout",
     "output_type": "stream",
     "text": [
      "[1 1 1 1 1]\n",
      "\n",
      "[[1 1 1]\n",
      " [1 1 1]]\n",
      "\n",
      "[[0. 0. 0. 0. 0.]\n",
      " [0. 0. 0. 0. 0.]\n",
      " [0. 0. 0. 0. 0.]]\n",
      "\n",
      "[[1.37303950e-311 3.16202013e-322 0.00000000e+000 0.00000000e+000]\n",
      " [1.16709769e-312 1.08646229e-071 2.85282351e-056 2.74272643e-057]\n",
      " [9.35446102e-067 2.85332716e-056 4.35519621e-061 9.59052900e-043]]\n",
      "\n",
      "[0 1 2]\n"
     ]
    }
   ],
   "source": [
    "import numpy as np\n",
    "\n",
    "\n",
    "# int32 type, 초기값 1로 1행 5열\n",
    "arr = np.ones(5, dtype='i')\n",
    "print(arr)\n",
    "print()\n",
    "\n",
    "# 2행 3열 생성\n",
    "arr2 = np.ones((2, 3), dtype='i')\n",
    "print(arr2)\n",
    "print()\n",
    "\n",
    "# 초기값 0으로 3행 5열 생성\n",
    "print(np.zeros((3, 5)))\n",
    "print()\n",
    "\n",
    "# empty로 하면 아무 값으로 생성\n",
    "print(np.empty((3, 4)))\n",
    "print()\n",
    "\n",
    "# tuple X, scalar value only\n",
    "# same as list(range(3))\n",
    "print(np.arange(3))\n"
   ]
  },
  {
   "cell_type": "code",
   "execution_count": null,
   "metadata": {},
   "outputs": [
    {
     "name": "stdout",
     "output_type": "stream",
     "text": [
      "nparray1 type = <class 'numpy.ndarray'>\n",
      "nparray1 shape = (2, 3)\n",
      "nparray1 size = 6\n",
      "[[ 5  6  7]\n",
      " [ 8  9 10]]\n"
     ]
    },
    {
     "data": {
      "text/plain": [
       "array([[ 5,  6,  7],\n",
       "       [ 8,  9, 10]], dtype=int32)"
      ]
     },
     "metadata": {},
     "output_type": "display_data"
    }
   ],
   "source": [
    "# list(range)로도 만들 수 있지만 nparray 개체로 생성하려면\n",
    "nparray1 = np.array([[5, 6, 7], [8, 9, 10]], dtype='i')\n",
    "print('nparray1 type =', type(nparray1))\n",
    "print('nparray1 shape =', nparray1.shape)\n",
    "print('nparray1 size =', nparray1.size)\n",
    "\n",
    "# print 했을때와 안했을떄의 차이\n",
    "print(nparray1)\n",
    "nparray1"
   ]
  },
  {
   "cell_type": "markdown",
   "metadata": {},
   "source": [
    "numpy로는 nparray 개체일때 행열이 같으면 명시적으로 반복문을 쓰지 않고 연산이 가능한데 기능은 반복문으로 구현을 했으나 코드에 for문을 적지 않아도 되는 방법이다. "
   ]
  },
  {
   "cell_type": "code",
   "execution_count": null,
   "metadata": {},
   "outputs": [
    {
     "data": {
      "text/plain": [
       "array([[2, 4],\n",
       "       [6, 8]])"
      ]
     },
     "metadata": {},
     "output_type": "display_data"
    }
   ],
   "source": [
    "x = np.array([[1, 2], [3, 4]])\n",
    "2 * x"
   ]
  },
  {
   "cell_type": "code",
   "execution_count": null,
   "metadata": {},
   "outputs": [
    {
     "data": {
      "text/plain": [
       "array([[1, 2, 3, 4]])"
      ]
     },
     "metadata": {},
     "output_type": "display_data"
    }
   ],
   "source": [
    "# -1은 알아서 셋팅하는것을 의미\n",
    "x.reshape(1, -1) # 행을 1개, 열을 알아서"
   ]
  },
  {
   "cell_type": "code",
   "execution_count": null,
   "metadata": {},
   "outputs": [
    {
     "data": {
      "text/plain": [
       "array([[1],\n",
       "       [2],\n",
       "       [3],\n",
       "       [4]])"
      ]
     },
     "metadata": {},
     "output_type": "display_data"
    }
   ],
   "source": [
    "# 행은 알아서, 컬럼(열)은 1개\n",
    "x.reshape(-1, 1)"
   ]
  },
  {
   "cell_type": "code",
   "execution_count": null,
   "metadata": {},
   "outputs": [
    {
     "data": {
      "text/plain": [
       "array([0, 1, 2, 3, 4, 5])"
      ]
     },
     "metadata": {},
     "output_type": "display_data"
    }
   ],
   "source": [
    "y = np.arange(6)\n",
    "y"
   ]
  },
  {
   "cell_type": "code",
   "execution_count": null,
   "metadata": {},
   "outputs": [
    {
     "name": "stdout",
     "output_type": "stream",
     "text": [
      "[[0 1 2]\n",
      " [3 4 5]]\n"
     ]
    }
   ],
   "source": [
    "y.reshape(2, -1)"
   ]
  },
  {
   "cell_type": "code",
   "execution_count": null,
   "metadata": {},
   "outputs": [
    {
     "name": "stdout",
     "output_type": "stream",
     "text": [
      "x.size: 10, x.shape: (10,), x[:5]: [1 2 3 4 5]\n",
      "y.size: 10, y.shape: (10,), y[:5]: [11 12 13 14 15]\n",
      "z.size: 10, z.shape: (10,), z[:5]: [0 0 0 0 0]\n",
      "z.size: 10, z.shape: (10,), z[:5]: [12 14 16 18 20]\n",
      "[False False False False False False False False False False]\n",
      "[ True  True  True  True  True  True  True  True  True  True]\n"
     ]
    }
   ],
   "source": [
    "x = np.arange(1, 11)\n",
    "y = np.arange(11, 21)\n",
    "z = np.zeros_like(x)\n",
    "\n",
    "print(f'x.size: {x.size}, x.shape: {x.shape}, x[:5]: {x[:5]}')\n",
    "print(f'y.size: {x.size}, y.shape: {y.shape}, y[:5]: {y[:5]}')\n",
    "print(f'z.size: {z.size}, z.shape: {z.shape}, z[:5]: {z[:5]}')\n",
    "\n",
    "# for i in range(10): z[i] = x[i] + y[i]\n",
    "z = x + y\n",
    "print(f'z.size: {z.size}, z.shape: {z.shape}, z[:5]: {z[:5]}')\n",
    "\n",
    "xy = x==y\n",
    "print(xy)\n",
    "\n",
    "xy2 = x<y\n",
    "print(xy2)"
   ]
  },
  {
   "cell_type": "code",
   "execution_count": null,
   "metadata": {},
   "outputs": [
    {
     "name": "stdout",
     "output_type": "stream",
     "text": [
      "[ 5 15 25]\n",
      "[ 3  9 15]\n",
      "False\n",
      "True\n",
      "False\n"
     ]
    }
   ],
   "source": [
    "x = np.linspace(5, 25, 3, dtype='i')\n",
    "y = np.linspace(3, 15, 3, dtype='i')\n",
    "\n",
    "print(x, y, sep='\\n')\n",
    "print(np.all(x==y))\n",
    "print(np.any(x>=y))  # 15가 크거나 같다는 조건문에서만 True\n",
    "print(np.any(x==y))  # 15가 같다는 조건문에는 False로 나옴"
   ]
  },
  {
   "cell_type": "code",
   "execution_count": null,
   "metadata": {},
   "outputs": [
    {
     "name": "stdout",
     "output_type": "stream",
     "text": [
      "525\n",
      "525\n",
      "525\n"
     ]
    }
   ],
   "source": [
    "# x, y 행렬의 모든값을 곱하려면\n",
    "print(np.dot(x, y))\n",
    "print(np.matmul(x, y))\n",
    "print(x@y)"
   ]
  },
  {
   "cell_type": "markdown",
   "metadata": {},
   "source": [
    "b처럼 int 타입으로 생성된 nparray가 있으면 take()나 a[b]처럼 a의 index로 사용할 수 있다. 다만 a의 갯수가 4개라면 b의 int type 숫자들도 a의 인덱스 번호 범위 안이어야 한다. 예를 들어 a에 5번째 요소가 없는데 b에 4가 들어있으면 범위 오류로 a[b] 또는 a.take(b)가 되지 않는다."
   ]
  },
  {
   "cell_type": "code",
   "execution_count": null,
   "metadata": {},
   "outputs": [
    {
     "name": "stdout",
     "output_type": "stream",
     "text": [
      "[2. 8. 4.]\n",
      "0\n",
      "[ 2.  6. 12. 20.]\n",
      "[  2.   8.  48. 384.]\n"
     ]
    }
   ],
   "source": [
    "a = np.array([2, 4, 6, 8], float)\n",
    "b = np.array([0, 3, 1], int)\n",
    "\n",
    "# b를 인덱스로 사용하여 a의 0, 3, 1번째 값을 b의 순서대로 가져옴\n",
    "print(a[b])\n",
    "# a.take(b)\n",
    "\n",
    "# 전체 요소의 최소값 위치(인덱스) 찾기\n",
    "print(a.argmin())\n",
    "\n",
    "# 첫번째 값부터 누적합\n",
    "print(a.cumsum())\n",
    "\n",
    "# 첫번째 값부터 누적곱\n",
    "print(a.cumprod())"
   ]
  }
 ],
 "metadata": {
  "kernelspec": {
   "display_name": "Python 3.9.13 64-bit",
   "language": "python",
   "name": "python3"
  },
  "language_info": {
   "name": "python",
   "version": "3.9.13"
  },
  "orig_nbformat": 4,
  "vscode": {
   "interpreter": {
    "hash": "756fa8430cc473c6206bc48a2946f179c5cd918bfcc6504cdaebc17ae54442b7"
   }
  }
 },
 "nbformat": 4,
 "nbformat_minor": 2
}
