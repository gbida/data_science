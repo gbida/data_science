{
 "cells": [
  {
   "cell_type": "markdown",
   "metadata": {},
   "source": [
    "# 서울지하철데이터 python으로 분석하기\n",
    "\n",
    "- Tmoney 대중교통 통계자료 > 2022년 6월 교통카드 데이터 > 지하철 유무임별 이용현황\n",
    "- 무임승차비율이 가장 높은 지하철역\n",
    "- 이용객 10만명 이상, 유임승차비율이 최대인 지하철역\n",
    "- 승차인원이 10,000명 이상인 곳에서 유임승차비율이 50%이하인 지하철역"
   ]
  },
  {
   "cell_type": "code",
   "execution_count": 1,
   "metadata": {},
   "outputs": [],
   "source": [
    "import csv\n",
    "import platform\n",
    "import matplotlib as mpl\n",
    "import matplotlib.pyplot as plt\n",
    "from matplotlib import font_manager as fm, rc\n",
    "\n",
    "\n",
    "# font settings\n",
    "mpl.rcParams['axes.unicode_minus']=False\n",
    "font_path = 'C:\\\\Windows\\\\Fonts\\\\malgun.ttf'\n",
    "font_name = fm.FontProperties(fname=font_path).get_name()\n",
    "rc('font', family=font_name)"
   ]
  },
  {
   "cell_type": "code",
   "execution_count": null,
   "metadata": {},
   "outputs": [
    {
     "name": "stdout",
     "output_type": "stream",
     "text": [
      "['사용월', '호선명', '역ID', '지하철역', '유임승차', '유임하차', '무임승차', '무임하차', '작업일시']\n",
      "유임승차비율 최대, 이용객 10만명 이상인 곳 관악산(서울대)역 95.6%\n",
      "유임승차비율 50% 이하, 승차인원 10,000명 이상인 곳 관악산(서울대)역 34.1%\n"
     ]
    },
    {
     "data": {
      "image/png": "[encoded data removed]",
      "text/plain": [
       "<Figure size 432x288 with 1 Axes>"
      ]
     },
     "metadata": {},
     "output_type": "display_data"
    }
   ],
   "source": [
    "f = open('../data/seoul_subway/seoul_subway.csv', mode='r', encoding='utf-8')\n",
    "data = csv.reader(f)\n",
    "header = next(data)\n",
    "print(header)\n",
    "\n",
    "paid_rate = 0\n",
    "not_paid_rate = 0\n",
    "max_rate = 0\n",
    "lowest_paid_rate = 1000\n",
    "\n",
    "for row in data:\n",
    "\tfor c in range(4, 8):\n",
    "\t\trow[c] = int(row[c])\n",
    "\n",
    "\tstation = row[3]\n",
    "\tpaid = row[4]\n",
    "\tnot_paid = row[6]\n",
    "\t승차인원 = row[4] + row[6]\n",
    "\t승하차인원 = sum(row[4:])\n",
    "\tpaid_rate = round((paid * 100) / 승차인원, 1)\n",
    "\tnot_paid_rate = 100 - paid_rate\n",
    "\n",
    "\t# 무임승차비율 최대 지하철역\n",
    "\t# if row[6] != 0:\n",
    "\t# \tif not_paid_rate > max_rate:\n",
    "\t# \t\tmax_rate = not_paid_rate\n",
    "\n",
    "\t# 이용객 10만명 이상, 유임승차비율 최대 지하철역\n",
    "\tif (승하차인원 >= 100000) and (paid_rate > max_rate):\n",
    "\t\tmax_rate = paid_rate\n",
    "\n",
    "\t# 유임승차비율 50% 이하, 승차인원 10,000명 이상\n",
    "\tif (paid_rate <= 50) and (승차인원 >= 10000):\n",
    "\t\tif paid_rate < lowest_paid_rate:\n",
    "\t\t\tlowest_paid_rate = paid_rate\n",
    "\t\t\tstation = row[3]\n",
    "\n",
    "print(f'유임승차비율 최대, 이용객 10만명 이상인 곳 {station}역 {max_rate}%')\n",
    "print(f'유임승차비율 50% 이하, 승차인원 10,000명 이상인 곳 {station}역 {lowest_paid_rate}%')\n",
    "f.close()\n",
    "\n",
    "\n",
    "# font by os\n",
    "system_name = platform.system()\n",
    "if system_name == 'Windows':  # Windows 운영체제\n",
    "\tprint('Windows OS')\n",
    "\tplt.rc('font', family='Malgun Gothic')\n",
    "elif system_name == 'Darwin':  # Mac OS\n",
    "\tprint('Mac OS')\n",
    "\tplt.rc('font', family='AppleGothic')\n",
    "elif system_name == 'Linux':  # Linux\n",
    "\tprint('Linux OS')\n",
    "\tpath = '/usr/share/fonts/truetype/nanum/NanumMyeongjo.ttf'\n",
    "\tfont_name = fm.FontProperties(fname=path, size=12)\n",
    "\tplt.rc('font', family=font_name)\n",
    "\n",
    "\n",
    "# 유임승차비율이 가장 낮은 역의 비율을 파이 차트로 표시\n",
    "plt.title(station + '역 무임, 유임 승차비율')\n",
    "plt.pie([(100-lowest_paid_rate), lowest_paid_rate],\\\n",
    "\tlabels=['무임승차', '유임승차'],\\\n",
    "\t\tautopct='%.1f%%',\\\n",
    "\t\t\tstartangle=90)\n",
    "plt.show()"
   ]
  },
  {
   "cell_type": "markdown",
   "metadata": {},
   "source": [
    "- 승하차인원이 가장 많은 지하철역\n",
    "  - 유임승차, 무임승차, 유임하차, 무임하차 4가지 경우 존재\n",
    "  - 각각의 컬럼별 최대 인원을 찾아 해당 값의 인덱스 격인 지하철역을 찾는다"
   ]
  },
  {
   "cell_type": "code",
   "execution_count": null,
   "metadata": {},
   "outputs": [],
   "source": [
    "import csv\n",
    "\n",
    "max = 0\n",
    "station_line = ''\n",
    "\n",
    "with open('../data/seoul_subway/seoul_subway.csv', mode='r', encoding='utf-8') as f:\n",
    "\tdivide = next(csv.reader(f))\n",
    "\tdivide = divide[4:]\n",
    "\tfor i, d in zip(range(4, 8), divide):\n",
    "\t\tfor line in f.readlines():\n",
    "\t\t\tline_one = line.split(',')\n",
    "\t\t\tvalue = int(line_one[i])\n",
    "\t\t\tif value > max: \n",
    "\t\t\t\tmax = value\n",
    "\t\t\t\tstation_line = line_one[1]\n",
    "\t\tprint(f'{d} 최대 승하차역 {station_line} {max:,}명')"
   ]
  },
  {
   "cell_type": "markdown",
   "metadata": {},
   "source": [
    "- 새벽 4시 지하철 이용인원\n",
    "- 출근시간대(7~9시) 지하철 이용현황"
   ]
  },
  {
   "cell_type": "code",
   "execution_count": null,
   "metadata": {},
   "outputs": [],
   "source": [
    "import csv\n",
    "import matplotlib.pyplot as plt\n",
    "\n",
    "\n",
    "with open('../data/seoul_subway/seoul_subway_time.csv', encoding='utf-8-sig') as f:\n",
    "\tdata = csv.reader(f)\n",
    "\t\n",
    "\t# 헤더 정보 2줄 컬럼에 담기\n",
    "\tcolumn = []\n",
    "\tcolumn.append(next(data))\n",
    "\tcolumn.append(next(data))\n",
    "\n",
    "\t# 출근시간대(7~9) 인덱스\n",
    "\tam7 = column[0].index('07:00:00~07:59:59')\n",
    "\tam8 = column[0].index('08:00:00~08:59:59')\n",
    "\tam9 = column[0].index('09:00:00~09:59:59')\n",
    "\n",
    "\tresult = [[], []]\n",
    "\tpeople_4am = 0\n",
    "\tmax_num = [0, 0]\n",
    "\tmax_station = ['', '']\n",
    "\n",
    "\tfor row in data:\n",
    "\t\trow[4:] = map(int, row[4:])\n",
    "\n",
    "\t\t# 새벽4시 지하철 이용객\n",
    "\t\tpeople_4am += row[4]\n",
    "\t\tresult[0].append(row[4])\n",
    "\t\tif (row[4] > max_num[0]):\n",
    "\t\t\tmax_num[0] = row[4]\n",
    "\t\t\tmax_station[0] = row[3]\n",
    "\n",
    "\t\t# 출근시간대 지하철 이용현황\n",
    "\t\trow_sum = sum(row[am7:am9:2])\n",
    "\t\tresult[1].append(row_sum)\n",
    "\t\tif (row_sum > max_num[1]):\n",
    "\t\t\tmax_num[1] = row_sum\n",
    "\t\t\tmax_station[1] = row[3] + '(' + row[1] + ')'\n",
    "\n",
    "print(f'새벽 4시 승차인원: {people_4am:,}')\n",
    "print(f'승차인원 최대 지하철역: {max_station[0]}역 {max_num[0]:,}명')\n",
    "\n",
    "# data visualization\n",
    "result_sort = sorted(result[0])\n",
    "plt.figure(dpi=100)\n",
    "plt.bar(range(len(result_sort)), result_sort)\n",
    "plt.show()"
   ]
  }
 ],
 "metadata": {
  "kernelspec": {
   "display_name": "Python 3.9.13 64-bit",
   "language": "python",
   "name": "python3"
  },
  "language_info": {
   "codemirror_mode": {
    "name": "ipython",
    "version": 3
   },
   "file_extension": ".py",
   "mimetype": "text/x-python",
   "name": "python",
   "nbconvert_exporter": "python",
   "pygments_lexer": "ipython3",
   "version": "3.9.13"
  },
  "orig_nbformat": 4,
  "vscode": {
   "interpreter": {
    "hash": "756fa8430cc473c6206bc48a2946f179c5cd918bfcc6504cdaebc17ae54442b7"
   }
  }
 },
 "nbformat": 4,
 "nbformat_minor": 2
}
