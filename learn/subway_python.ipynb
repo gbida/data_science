{
 "cells": [
  {
   "cell_type": "markdown",
   "metadata": {},
   "source": [
    "# 서울지하철데이터 python으로 분석하기\n",
    "\n",
    "- Tmoney 대중교통 통계자료 > 2022년 6월 교통카드 데이터 > 지하철 유무임별 이용현황\n",
    "- 유임승차비율, 무임승차비율\n",
    "- 새벽 4시 지하철 이용인원\n",
    "- 출근시간대(7~9시) 지하철 이용현황"
   ]
  },
  {
   "cell_type": "code",
   "execution_count": null,
   "metadata": {},
   "outputs": [],
   "source": [
    "import csv\n",
    "\n",
    "\n",
    "# 데이터가 '\\ufeff사용월'처럼 나오면 utf-8-sig로 인코딩\n",
    "file = open('/data/seoul_subway', mode='r', encoding='utf-8')\n",
    "data = csv.reader(file)\n",
    "header = next(data)\n",
    "print(header)\n",
    "\n",
    "max_rate = 0\n",
    "paid_rate = 0\n",
    "not_paid_rate = 0\n",
    "i = 0\n",
    "\n",
    "for row in data:\n",
    "\t# 3줄까지만 출력\n",
    "\ti += 1\n",
    "\tif i >= 3: break\n",
    "\t# 유임승차에서 무임하차 컬럼까지 데이터 타입 int로 변경\n",
    "\tfor c in range(4, 8):\n",
    "\t\trow[c] = int(row[c])\n",
    "\t# paid=유임승차인, not_paid=무임승차인, passengers=전체탑승객\n",
    "\tpaid = row[4]\n",
    "\tnot_paid = row[6]\n",
    "\tpassengers = paid + not_paid\n",
    "\t# 유임승차비율 = (유임승차 / 전체 탑승객) * 100\n",
    "\tpaid_rate = round((paid / passengers) * 100, 1)\n",
    "\t# 무임승차비율 = (유임승차 / 전체 탑승객) * 100\n",
    "\tnot_paid_rate = round((not_paid / passengers) * 100, 1)\n",
    "\tprint(paid_rate, not_paid_rate)\n",
    "\n",
    "file.close()"
   ]
  },
  {
   "cell_type": "markdown",
   "metadata": {},
   "source": [
    "---\n",
    "## 새벽 4시 지하철 이용인원"
   ]
  },
  {
   "cell_type": "code",
   "execution_count": null,
   "metadata": {},
   "outputs": [],
   "source": [
    "import csv\n",
    "import matplotlib.pyplot as plt\n",
    "\n",
    "\n",
    "with open('/data/seoul_subway_time.csv', encoding='utf-8-sig') as f:\n",
    "\tdata = csv.reader(f)\n",
    "\tnext(data)\n",
    "\tnext(data)\n",
    "\n",
    "\tresult = []\n",
    "\tpassengers_4am = 0\n",
    "\tmax_num = 0\n",
    "\tmax_station = ''\n",
    "\n",
    "\tfor row in data:\n",
    "\t\trow[4:] = map(int, row[4:])\n",
    "\t\tpassengers_4am += row[4]\n",
    "\t\tresult.append(row[4])\n",
    "\t\tif (row[4] > max_num):\n",
    "\t\t\tmax_num = row[4]\n",
    "\t\t\tmax_station = row[3]\n",
    "\n",
    "print('지하철역 수:', len(result))\n",
    "print('새벽 4시 승차인원: {:,}'.format(passengers_4am))\n",
    "\n",
    "# 데이터 차트\n",
    "result_sort = sorted(result)\n",
    "plt.figure(dpi=100)\n",
    "plt.bar(range(len(result_sort)), result_sort);"
   ]
  },
  {
   "cell_type": "markdown",
   "metadata": {},
   "source": [
    "---\n",
    "## 출근시간대(7~9시) 지하철 이용현황"
   ]
  },
  {
   "cell_type": "code",
   "execution_count": null,
   "metadata": {},
   "outputs": [],
   "source": [
    "import csv\n",
    "import matplotlib.pyplot as plt\n",
    "\n",
    "\n",
    "with open('/data/seoul_subway_time.csv', encoding='utf-8-sig') as f:\n",
    "\tdata = csv.reader(f)\n",
    "\n",
    "\t# 헤더 정보 2줄 컬럼에 담기\n",
    "\tcolumn = []\n",
    "\tcolumn.append(next(data))\n",
    "\tcolumn.append(next(data))\n",
    "\n",
    "\tresult = []\n",
    "\tpassengers_4am = 0\n",
    "\tmax_num = 0\n",
    "\tmax_station = ''\n",
    "\n",
    "\t# 7~9시까지 시간대 인덱스 찾기\n",
    "\tam7 = column[0].index('07:00:00~07:59:59')\n",
    "\tam8 = column[0].index('08:00:00~08:59:59')\n",
    "\tam9 = column[0].index('09:00:00~09:59:59')\n",
    "\n",
    "\tfor row in data:\n",
    "\t\trow[4:] = map(int, row[4:])\n",
    "\t\trow_sum = sum(row[am7:am9:2])\n",
    "\t\tresult.append(row_sum)\n",
    "\t\tif (row_sum > max_num):\n",
    "\t\t\tmax_num = row_sum\n",
    "\t\t\tmax_station = row[3] + '(' + row[1] + ')'\n",
    "\n",
    "print('승차인원 최대 지하철역: {0}역 {1:,}명'.format(max_station, max_num))\n",
    "\n",
    "# graph\n",
    "result_sort = sorted(result)\n",
    "plt.figure(dpi=100)\t\n",
    "plt.bar(range(len(result_sort)), result_sort);"
   ]
  }
 ],
 "metadata": {
  "kernelspec": {
   "display_name": "Python 3.9.13 64-bit",
   "language": "python",
   "name": "python3"
  },
  "language_info": {
   "codemirror_mode": {
    "name": "ipython",
    "version": 3
   },
   "file_extension": ".py",
   "mimetype": "text/x-python",
   "name": "python",
   "nbconvert_exporter": "python",
   "pygments_lexer": "ipython3",
   "version": "3.9.13"
  },
  "orig_nbformat": 4,
  "vscode": {
   "interpreter": {
    "hash": "756fa8430cc473c6206bc48a2946f179c5cd918bfcc6504cdaebc17ae54442b7"
   }
  }
 },
 "nbformat": 4,
 "nbformat_minor": 2
}
