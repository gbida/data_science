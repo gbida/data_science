{
 "cells": [
  {
   "cell_type": "markdown",
   "metadata": {},
   "source": [
    "# using hangeul font in matplotlib"
   ]
  },
  {
   "cell_type": "code",
   "execution_count": 3,
   "metadata": {},
   "outputs": [
    {
     "name": "stdout",
     "output_type": "stream",
     "text": [
      "버전: 3.5.2\n",
      "설치 위치: c:\\Users\\lh\\Programs\\Python3.9.13\\lib\\site-packages\\matplotlib\\__init__.py\n",
      "설정 파일 위치: c:\\Users\\lh\\Programs\\Python3.9.13\\lib\\site-packages\\matplotlib\\mpl-data\\matplotlibrc\n",
      "설정 위치: C:\\Users\\lh\\.matplotlib\n",
      "캐시 위치: C:\\Users\\lh\\.matplotlib\n",
      "C:\\WINDOWS\\Fonts\\malgun.ttf\n",
      "C:\\Windows\\Fonts\\malgunsl.ttf\n",
      "C:\\Users\\lh\\AppData\\Local\\Microsoft\\Windows\\Fonts\\malgun.ttf\n",
      "C:\\Windows\\Fonts\\malgunbd.ttf\n",
      "C:\\Windows\\Fonts\\malgun.ttf\n",
      "C:\\WINDOWS\\Fonts\\malgunsl.ttf\n",
      "C:\\WINDOWS\\Fonts\\malgunbd.ttf\n"
     ]
    }
   ],
   "source": [
    "import matplotlib as mpl\n",
    "from matplotlib import font_manager as fm\n",
    "\n",
    "\n",
    "# check matplotlib version and location\n",
    "print('버전:', mpl.__version__)\n",
    "print('설치 위치:', mpl.__file__)\n",
    "print('설정 파일 위치:', mpl.matplotlib_fname())\n",
    "print('설정 위치:', mpl.get_configdir())\n",
    "print('캐시 위치:', mpl.get_cachedir())\n",
    "\n",
    "# matplotlib fonts\n",
    "# font_list = os.listdir('mpl.matplotlib_fname()')\n",
    "# print(font_list[:5])\n",
    "# print(len(font_list))\n",
    "\n",
    "# find system fonts\n",
    "font_list = fm.findSystemFonts(fontpaths=None, fontext='ttf')\n",
    "for font in font_list:\n",
    "\tif ('malgun' or 'Malgun') in font:\n",
    "\t\tprint(font)\n",
    "\n",
    "# find installed fonts on mac\n",
    "# fm.OSXInstalledFonts()"
   ]
  },
  {
   "cell_type": "code",
   "execution_count": 11,
   "metadata": {},
   "outputs": [
    {
     "name": "stdout",
     "output_type": "stream",
     "text": [
      "C:\\Windows\\Fonts\\malgun.ttf\n"
     ]
    }
   ],
   "source": [
    "# 1. for making graph to notebook\n",
    "%matplotlib inline\n",
    "\n",
    "# 2. needed module\n",
    "import matplotlib as mpl\n",
    "import matplotlib.pyplot as plt\n",
    "from matplotlib import font_manager as fm, rc\n",
    "import numpy as np\n",
    "\n",
    "\n",
    "# 'Malgun Gothic' instead 'malgun'\n",
    "# since 'malgun' not found. Falling back to DejaVu Sans error\n",
    "print(fm.findfont('Malgun Gothic'))\n",
    "\n",
    "# 3. care the broken minus value in graph \n",
    "mpl.rcParams['axes.unicode_minus']=False\n",
    "mpl.rcParams['font.family']\n",
    "\n",
    "# 4. ttf 파일에서 이름을 얻어서 font.family에 지정하기\n",
    "font_fname = r'C:\\\\Windows\\\\Fonts\\\\malgun.ttf'\n",
    "font_family = fm.FontProperties(fname=font_fname).get_name()\n",
    "plt.rcParams['font.family']=font_family\n",
    "# plt.rcParams['font.family']='NanumGothic'\n",
    "# plt.rcParams['font.family']=['Tahoma, 'Lucida Grande']"
   ]
  },
  {
   "cell_type": "code",
   "execution_count": 19,
   "metadata": {},
   "outputs": [
    {
     "data": {
      "image/png": "[encoded data removed]",
      "text/plain": [
       "<Figure size 432x288 with 1 Axes>"
      ]
     },
     "metadata": {
      "needs_background": "light"
     },
     "output_type": "display_data"
    }
   ],
   "source": [
    "# 5. broken hangeul font in graph for instance\n",
    "randomNums = np.random.randint(-100, 100, 50).cumsum()\n",
    "\n",
    "# also can use this way instead 4\n",
    "# plt.rc('font', family='Malgun Gothic')\n",
    "\n",
    "# 6. make graph\n",
    "plt.plot(range(50), randomNums)\n",
    "plt.title('예시 그래프')\n",
    "plt.ylabel('y축 라벨')\n",
    "plt.xlabel('x축 라벨')\n",
    "plt.style.use('seaborn-pastel')\n",
    "plt.text(0.5, 0, 'x축 라벨');"
   ]
  }
 ],
 "metadata": {
  "kernelspec": {
   "display_name": "Python 3.9.12 ('base': conda)",
   "language": "python",
   "name": "python3"
  },
  "language_info": {
   "codemirror_mode": {
    "name": "ipython",
    "version": 3
   },
   "file_extension": ".py",
   "mimetype": "text/x-python",
   "name": "python",
   "nbconvert_exporter": "python",
   "pygments_lexer": "ipython3",
   "version": "3.9.12"
  },
  "orig_nbformat": 4,
  "vscode": {
   "interpreter": {
    "hash": "6588f8885393062c84ca3cf98915dd362f3bc7e17a1550b6766decbdfd1308b9"
   }
  }
 },
 "nbformat": 4,
 "nbformat_minor": 2
}
