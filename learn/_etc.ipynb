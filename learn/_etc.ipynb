{
 "cells": [
  {
   "cell_type": "markdown",
   "source": [
    "# 숫자에 콤마(,) 구분 넣고 싶을때\n",
    "\n",
    "ex. 29900원 -> 29,900원"
   ],
   "metadata": {
    "collapsed": false,
    "pycharm": {
     "name": "#%% md\n"
    }
   }
  },
  {
   "cell_type": "code",
   "execution_count": null,
   "outputs": [],
   "source": [
    "import pandas\n",
    "\n",
    "# pandas.read_csv(thousands=',')\n",
    "# pandas.read_csv(delimiter='\\t')\n",
    "# pandas.DataFrame.[컬럼명].str.replace('', ',').astype('int64')"
   ],
   "metadata": {
    "collapsed": false,
    "pycharm": {
     "name": "#%%\n"
    }
   }
  }
 ],
 "metadata": {
  "kernelspec": {
   "display_name": "Python 3",
   "language": "python",
   "name": "python3"
  },
  "language_info": {
   "codemirror_mode": {
    "name": "ipython",
    "version": 2
   },
   "file_extension": ".py",
   "mimetype": "text/x-python",
   "name": "python",
   "nbconvert_exporter": "python",
   "pygments_lexer": "ipython2",
   "version": "2.7.6"
  }
 },
 "nbformat": 4,
 "nbformat_minor": 0
}