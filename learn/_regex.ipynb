{
 "cells": [
  {
   "cell_type": "markdown",
   "metadata": {},
   "source": [
    "# Regex what I learned\n",
    "\n",
    "- 참고: Do it! 점프투파이썬 정규표현식(p.291~320)\n",
    "- Enter key를 쓰면 '\\n'이 들어가서 여러줄을 입력할때는 \"\"\"문장\"\"\" 이렇게 쓰고\n",
    "- 한 줄을 쓸 때는 '작은 따옴표 안에 문장' 이렇게 쓰는 것이 약속"
   ]
  },
  {
   "cell_type": "code",
   "execution_count": 3,
   "metadata": {},
   "outputs": [],
   "source": [
    "import re"
   ]
  },
  {
   "cell_type": "code",
   "execution_count": 27,
   "metadata": {},
   "outputs": [
    {
     "name": "stdout",
     "output_type": "stream",
     "text": [
      "\n",
      "name1 82-**-****-****\n",
      "name2 1-**-****-****\n",
      "\n",
      "['10', '11']\n",
      "\n",
      "Differences between match, search, findall\n",
      "<re.Match object; span=(0, 3), match='cat'>\n",
      "<re.Match object; span=(0, 3), match='cat'>\n",
      "a* : ['cat', 'ct', 'caaat']\n",
      "a+ : ['cat', 'caaat']\n"
     ]
    }
   ],
   "source": [
    "temp_data = \"\"\"\n",
    "name1 82-10-3333-2222\n",
    "name2 1-11-2234-5555\n",
    "\"\"\"\n",
    "\n",
    "pattern = re.compile('(\\d{,2})[-]\\d{2}[-]\\d{4}[-]\\d{4}')\n",
    "print(pattern.sub('\\g<1>-**-****-****', temp_data))\n",
    "\n",
    "# 앞뒤의 [-] 기호 제외하고 10, 11 부분만 찾고 싶을때\n",
    "print(re.findall('(?<=-)\\d{1,2}(?=-)', temp_data))\n",
    "\n",
    "\n",
    "# 별표(*) 기호는 앞의 문자(a)를 0개 이상 포함\n",
    "print()\n",
    "print('Differences between match, search, findall')\n",
    "print(re.match('ca*t', 'cat, ct, caaat'))\n",
    "print(re.search('ca*t', 'cat, ct, caaat'))\n",
    "\n",
    "# +와 *를 언제 써야할지 헷갈릴때\n",
    "print(f\"a* : {re.findall('ca*t', 'cat, ct, caaat')}\")\n",
    "\n",
    "# 찾으려는 문자가 반드시 1개 이상 포함되어야 하면 + 기호 사용\n",
    "print(f\"a+ : {re.findall('ca+t', 'cat, ct, caaat')}\")"
   ]
  },
  {
   "cell_type": "code",
   "execution_count": 32,
   "metadata": {},
   "outputs": [
    {
     "name": "stdout",
     "output_type": "stream",
     "text": [
      "[]\n",
      "['일시\\n강남역']\n",
      "['일시\\n강남역']\n"
     ]
    }
   ],
   "source": [
    "# 줄이 바뀔떄 '\\n'이 포함\n",
    "temp_data = \"\"\"\n",
    "역이름, 노선, 승차인원, 하차인원, 일시\n",
    "강남역, 2호선, 2813823, 348834, 2022-07-07\n",
    "\"\"\"\n",
    "\n",
    "# '\\n'을 포함해서 찾으려면 re.S 또는 re.DOTALL을 사용\n",
    "print(re.findall('일시.강남역', temp_data))\n",
    "print(re.findall('일시\\n강남역', temp_data))\n",
    "\n",
    "p = re.compile('일시.강남역', re.S)\n",
    "print(p.findall(temp_data))"
   ]
  },
  {
   "cell_type": "code",
   "execution_count": 56,
   "metadata": {},
   "outputs": [
    {
     "name": "stdout",
     "output_type": "stream",
     "text": [
      "<re.Match object; span=(0, 1), match='U'>\n",
      "['U', 'p', 'p', 'e', 'r', 'C', 'h', 'a', 'r', 'a', 'c', 't', 'e', 'r']\n"
     ]
    },
    {
     "data": {
      "text/plain": [
       "['\\npython one', 'python two', 'python three']"
      ]
     },
     "execution_count": 56,
     "metadata": {},
     "output_type": "execute_result"
    }
   ],
   "source": [
    "# 대문자 찾을때\n",
    "p = re.compile('[a-z]', re.I)\n",
    "print(p.match('Upper Character'))\n",
    "print(p.findall('Upper Character'))\n",
    "\n",
    "temp_data = \"\"\"\n",
    "python one\n",
    "python two\n",
    "python three\n",
    "\"\"\"\n",
    "\n",
    "# 이러면 첫문장의 처음 시작에만 해당\n",
    "p = re.compile('^.python\\s\\w+', re.S)\n",
    "p.findall(temp_data)\n",
    "\n",
    "# 전체 데이터에서 첫시작이 python인 것을 찾고 싶으면 re.M 또는 re.MULTILINE\n",
    "p = re.compile('^\\npython\\s\\w+|^python\\s\\w+$', re.MULTILINE)\n",
    "p.findall(temp_data)"
   ]
  },
  {
   "cell_type": "markdown",
   "metadata": {},
   "source": [
    "charref = re.compile(r'&[#](o[0-7]+|[0-9]+|x[0-9a-fA-F]+);')\n",
    "- 정규표현식이 이처럼 복잡할 경우 가독성을 위해 주석과 함께 여러줄로 표현할 수 있다\n",
    "- 0[0-7] 부분은 8진수, x[0-9a-fA-F] 부분은 16진수\n",
    "- re.X 또는 re.VERBOSE"
   ]
  },
  {
   "cell_type": "code",
   "execution_count": 57,
   "metadata": {},
   "outputs": [
    {
     "data": {
      "text/plain": [
       "[]"
      ]
     },
     "execution_count": 57,
     "metadata": {},
     "output_type": "execute_result"
    }
   ],
   "source": [
    "charref = re.compile(r\"\"\"\n",
    "&[#]\t# Start of numeric entity reference\n",
    "(\n",
    "\t0[0-7]+\t\t# Octal form\n",
    "\t| [0-9]+\t# Decimal form\n",
    "\t| x[0-9a-fA-F]+\t\t# Hexadecimal form\n",
    ")\n",
    ";\t# Trailing semicolon\n",
    "\"\"\", re.VERBOSE)"
   ]
  },
  {
   "cell_type": "code",
   "execution_count": 109,
   "metadata": {},
   "outputs": [
    {
     "name": "stdout",
     "output_type": "stream",
     "text": [
      "['# When write a code with a annotation', '# another annotation here']\n"
     ]
    }
   ],
   "source": [
    "temp_data = \"\"\"for instance\n",
    "# When write a code with a annotation\n",
    "code here\n",
    "# another annotation here\n",
    "code here\n",
    "\"\"\"\n",
    "\n",
    "# 주석만 찾기\n",
    "p = re.compile('(#+.+)', re.M)\n",
    "m = p.findall(temp_data)\n",
    "print(m)"
   ]
  },
  {
   "cell_type": "markdown",
   "metadata": {},
   "source": [
    "---\n",
    "### raw string?\n",
    "\n",
    "setciton이라는 문자열을 찾으려면 \\section으로 pattern을 만들면 \\s는 whitesplace 문자로 인식해서 처리되지 않는다. 인식되게 하려면 \\\\\\\\section으로 해야하는데 그러지 않기 위해서 r'\\\\section'으로 한다. r은 raw string을 의미.  \n",
    "\n",
    "가끔 파일 경로 입력할때 보면 C:\\\\Program처럼 백슬래시를 2번 입력하는 이유도 1개만 입력하면 정규표현식으로 처리가 될 수 있어서 그렇다.  \n",
    "\n",
    "근데 특정 단어 찾을때 \\section이 아니라 백슬래시 없이 그냥 section으로 찾는데"
   ]
  },
  {
   "cell_type": "code",
   "execution_count": 125,
   "metadata": {},
   "outputs": [
    {
     "data": {
      "text/plain": [
       "[]"
      ]
     },
     "execution_count": 125,
     "metadata": {},
     "output_type": "execute_result"
    }
   ],
   "source": [
    "re.findall('section', 'section')"
   ]
  },
  {
   "cell_type": "markdown",
   "metadata": {},
   "source": [
    "\\b는 단어구분자로 공백을 기준으로 단어를 찾는다. 반대로 \\B는 공백으로 구분된 단어가 아닌 경우를 찾는다.  \n",
    "\n",
    "\\B는 찾고자 하는 단어 앞뒤로 다른 단어가 있어야 하고 찾은 결과도 declassfied를 보여주는게 아니라 class를 보여주기 때문에 그 단어에 찾고자 하는 단어가 포함되어 있는지 알고 싶을때 유용하다. 아니면 공백을 전부 없앤 문장에서 어떤 말을 찾으려고 할때 사용하기 좋다."
   ]
  },
  {
   "cell_type": "code",
   "execution_count": 27,
   "metadata": {},
   "outputs": [
    {
     "name": "stdout",
     "output_type": "stream",
     "text": [
      "<re.Match object; span=(0, 5), match='전기자전거'>\n",
      "None\n",
      "<re.Match object; span=(2, 7), match='class'>\n",
      "<re.Match object; span=(3, 8), match='전기자전거'>\n",
      "['전기자전거', '전기 자전거']\n",
      "['전기자전거', '전기 자전거', '카카오 전기자전거']\n"
     ]
    }
   ],
   "source": [
    "# 데이터에서 전기자전거를 찾고 싶을때\n",
    "print(re.search(r'\\b전기자전거\\b', '전기자전거 전기 자전거'))\n",
    "print(re.search(r'\\B전기자전거\\B', '전기자전거 전기 자전거'))\n",
    "\n",
    "# 어떨때 \\B를 쓰는게 유용하냐면\n",
    "print(re.search(r'\\Bclass\\B', 'declassfied algorithm'))\n",
    "print(re.search(r'\\B전기자전거\\B', '카카오전기자전거를 전기자전거 전기 자전거'))\n",
    "\n",
    "# 전기자전거, 전기 자전거 다 찾고 싶을때\n",
    "print(re.findall('전기자전거|전기\\s자전거', '전기자전거 전기 자전거'))\n",
    "\n",
    "# 데이터에서 해당하는 내용을 다 찾고 싶을때 그루핑 활용\n",
    "print(re.findall('(전기자전거|전기\\s자전거|\\w+\\s\\전기자전거)+', '#전기자전거 #전기 자전거 #카카오 전기자전거'))"
   ]
  },
  {
   "cell_type": "markdown",
   "metadata": {},
   "source": [
    "데이터에서 중복된 단어 찾을때  \n",
    "- \\1은 정규식의 그룹 중 첫번째 그룹을 의미\n",
    "- 뒤에 오는 중복단어 찾는거 모르겠음"
   ]
  },
  {
   "cell_type": "code",
   "execution_count": 53,
   "metadata": {},
   "outputs": [
    {
     "name": "stdout",
     "output_type": "stream",
     "text": [
      "Paris paris\n",
      "Paris paris\n"
     ]
    }
   ],
   "source": [
    "p = re.compile(r'(\\b\\w+)\\s+\\1', re.I)\n",
    "print(p.search('Paris paris in the spring spring').group())\n",
    "\n",
    "p = re.compile(r'(?P<word>\\b\\w+)\\s+(?P=word)', re.I)\n",
    "\n",
    "print(p.search('Paris paris in the spring spring').group())"
   ]
  },
  {
   "cell_type": "markdown",
   "metadata": {},
   "source": [
    "콤마 앞에 있는 정보만 찾고 싶을때  \n",
    "- 긍정형 전방 탐색만 하면 끝에 콤마가 없는 데이터는 안나와서 긍정형 후방탐색으로 조건식 같이 구성"
   ]
  },
  {
   "cell_type": "code",
   "execution_count": 59,
   "metadata": {},
   "outputs": [
    {
     "data": {
      "text/plain": [
       "['1호선', ' 외대역', ' 49586', ' 48490']"
      ]
     },
     "execution_count": 59,
     "metadata": {},
     "output_type": "execute_result"
    }
   ],
   "source": [
    "temp_data = '1호선, 외대역, 49586, 48490'\n",
    "re.findall(r'\\w+(?=,)|(?<=,)\\s*\\w+', temp_data)"
   ]
  },
  {
   "cell_type": "code",
   "execution_count": 121,
   "metadata": {},
   "outputs": [
    {
     "name": "stdout",
     "output_type": "stream",
     "text": [
      "['temp.py', 'temp.txt', 'temp.bat', 'temp.bat.bat', 'foo.bar']\n",
      "['temp.py']\n",
      "['temp.py', 'temp.txt', 'foo.bar']\n"
     ]
    }
   ],
   "source": [
    "temp_data = \"\"\"\n",
    "temp.py\n",
    "temp.txt\n",
    "temp.bat\n",
    "temp.bat.bat\n",
    "foo.bar\n",
    "\"\"\"\n",
    "\n",
    "# 파일명.파일확장자\n",
    "print(re.findall('.*[.].*', temp_data))\n",
    "\n",
    "# bat 파일 제외하려고 [^bat] 쓰면 bat을 제외하는게 아니라 b, a, t 포함된걸 제외\n",
    "print(re.findall('.*[.][^bat].*', temp_data))\n",
    "\n",
    "# bat 파일만 제외하려면\n",
    "print(re.findall('.*[.](?!bat)+.*', temp_data))\n"
   ]
  },
  {
   "cell_type": "code",
   "execution_count": 129,
   "metadata": {},
   "outputs": [
    {
     "name": "stdout",
     "output_type": "stream",
     "text": [
      "['temp.py', 'temp.txt', 'foo.bar']\n"
     ]
    }
   ],
   "source": [
    "# bat.bat, txt.txt처럼 같은 확장자명이 연속된 경우 대처\n",
    "temp_data = temp_data.split('\\n')\n",
    "temp_data = [data for data in temp_data if data != '']\n",
    "\n",
    "not_bat_file = []\n",
    "for file in temp_data:\n",
    "\tdot = file.count('.')\n",
    "\tif dot >= 2:\n",
    "\t\tpattern = '[.](?!bat)' * dot\n",
    "\t\tm = re.findall('.*' + pattern + '+.*', file)\n",
    "\t\tnot_bat_file.extend(m)\n",
    "\telse:\n",
    "\t\tm = re.findall('.*[.](?!bat)+.*', file)\n",
    "\t\tnot_bat_file.extend(m)\n",
    "\n",
    "not_bat_file = [file for file in not_bat_file if file != []]\n",
    "print(not_bat_file)"
   ]
  },
  {
   "cell_type": "code",
   "execution_count": 8,
   "metadata": {},
   "outputs": [
    {
     "name": "stdout",
     "output_type": "stream",
     "text": [
      "seoul subway has 616 lines\n"
     ]
    }
   ],
   "source": [
    "# 정규표현식으로 지하철 데이터에서 노선 정보만 찾기\n",
    "with open('../data/seoul_subway/seoul_subway.csv',\\\n",
    "\tmode='r', encoding='utf-8') as f:\n",
    "\tdata = f.read()\n",
    "\n",
    "subway_line = re.findall('(?<=,).+선', data)\n",
    "print(f'seoul subway has {len(subway_line)} lines')"
   ]
  }
 ],
 "metadata": {
  "kernelspec": {
   "display_name": "Python 3.9.12 ('base')",
   "language": "python",
   "name": "python3"
  },
  "language_info": {
   "codemirror_mode": {
    "name": "ipython",
    "version": 3
   },
   "file_extension": ".py",
   "mimetype": "text/x-python",
   "name": "python",
   "nbconvert_exporter": "python",
   "pygments_lexer": "ipython3",
   "version": "3.9.12"
  },
  "orig_nbformat": 4,
  "vscode": {
   "interpreter": {
    "hash": "6588f8885393062c84ca3cf98915dd362f3bc7e17a1550b6766decbdfd1308b9"
   }
  }
 },
 "nbformat": 4,
 "nbformat_minor": 2
}
