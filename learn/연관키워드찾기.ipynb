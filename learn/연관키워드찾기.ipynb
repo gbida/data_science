{
 "cells": [
  {
   "cell_type": "markdown",
   "source": [
    "# 공유이동수단 연관 키워드 찾기"
   ],
   "metadata": {
    "collapsed": false,
    "pycharm": {
     "name": "#%% md\n"
    }
   }
  },
  {
   "cell_type": "code",
   "execution_count": 441,
   "outputs": [],
   "source": [
    "import os\n",
    "import datetime\n",
    "import pandas as pd\n",
    "import numpy as np\n",
    "import matplotlib.pyplot as plt\n",
    "\n",
    "from matplotlib import font_manager as fm, rc\n",
    "\n",
    "\n",
    "# 한글 인식 오류 대치\n",
    "font_path='../font/malgun.ttf'\n",
    "font_name=fm.FontProperties(fname=font_path).get_name()\n",
    "rc('font', family=font_name)\n",
    "\n",
    "# pandas 가로, 세로 데이터 출력 조절\n",
    "pd.set_option('display.max_columns', 50)\n",
    "pd.set_option('display.max_rows', 50)"
   ],
   "metadata": {
    "collapsed": false,
    "pycharm": {
     "name": "#%%\n"
    }
   }
  },
  {
   "cell_type": "markdown",
   "source": [
    "---\n",
    "## 데이터 합치기"
   ],
   "metadata": {
    "collapsed": false,
    "pycharm": {
     "name": "#%% md\n"
    }
   }
  },
  {
   "cell_type": "code",
   "execution_count": 210,
   "outputs": [],
   "source": [
    "# csv파일 리스트 생성 후 읽어오기\n",
    "files = os.listdir('../data/relation/')\n",
    "data_arch = []\n",
    "for file in files:\n",
    "    data_arch.append(pd.read_csv(f'../data/relation/{file}'))\n",
    "data_arch"
   ],
   "metadata": {
    "collapsed": false,
    "pycharm": {
     "name": "#%%\n"
    }
   }
  },
  {
   "cell_type": "code",
   "execution_count": null,
   "outputs": [],
   "source": [
    "data_arch2 = []\n",
    "for i, df in enumerate(data_arch):\n",
    "    # 월간검색량 + 블로그 누적발행량\n",
    "    df.insert(1, 'volume',\n",
    "              df['월간 검색량 (Total)'] + df['블로그 누적 발행량'])\n",
    "    df.drop(df.iloc[:, 2:], axis=1, inplace=True)\n",
    "    # 연관키워드 데이터 재배치\n",
    "    df.insert(1, '연관키워드', df['키워드'])\n",
    "    # 첫번째 컬럼명 '키워드' 이름을 검색 단어로 변경\n",
    "    df.rename(columns={'키워드': '검색키워드'}, inplace=True)\n",
    "    df['검색키워드'] = files[i].split('.')[0]\n",
    "    data_arch2.append(df)\n",
    "data_arch2"
   ],
   "metadata": {
    "collapsed": false,
    "pycharm": {
     "name": "#%%\n",
     "is_executing": true
    }
   }
  },
  {
   "cell_type": "code",
   "execution_count": null,
   "outputs": [],
   "source": [
    "# 검색키워드, 연관키워드, 검색량 데이터프레임 생성\n",
    "df2 = pd.concat(data_arch2,\n",
    "                keys=['공유자전거', '따릉이',\n",
    "                      '전동킥보드', '카카오자전거',\n",
    "                      '퍼스널모빌리티'])\n",
    "df2"
   ],
   "metadata": {
    "collapsed": false,
    "pycharm": {
     "name": "#%%\n",
     "is_executing": true
    }
   }
  },
  {
   "cell_type": "markdown",
   "source": [
    "---\n",
    "## 공유자전거와 같이 가장 많이 검색한 키워드"
   ],
   "metadata": {
    "collapsed": false,
    "pycharm": {
     "name": "#%% md\n"
    }
   }
  },
  {
   "cell_type": "code",
   "execution_count": 400,
   "outputs": [
    {
     "data": {
      "text/plain": "          검색키워드      연관키워드  volume\n공유자전거 5   공유자전거    노펑크 자전거    1800\n      15  공유자전거    anm 자전거    1997\n      11  공유자전거  고양시 공유자전거    4631\n      13  공유자전거   천안 공유자전거    5411\n      17  공유자전거     4발 자전거    5475\n      7   공유자전거    배달용 자전거    6100\n      3   공유자전거   일산 공유자전거    6740\n      12  공유자전거   수원 공유자전거   10055\n      18  공유자전거     삼륜 자전거   12567\n      4   공유자전거  제주도 공유자전거   15015\n      6   공유자전거   대구 공유자전거   15679\n      0   공유자전거     전기자전거샵   15696\n      8   공유자전거  경기도 공유자전거   17908\n      10  공유자전거   인천 공유자전거   20649\n      14  공유자전거   부산 공유자전거   22864\n      9   공유자전거      모터자전거  109300\n      16  공유자전거     배달 자전거  163325\n      2   공유자전거     충전 자전거  188423\n      1   공유자전거      국내자전거  355131\n      19  공유자전거     전기 자전거  505346",
      "text/html": "<div>\n<style scoped>\n    .dataframe tbody tr th:only-of-type {\n        vertical-align: middle;\n    }\n\n    .dataframe tbody tr th {\n        vertical-align: top;\n    }\n\n    .dataframe thead th {\n        text-align: right;\n    }\n</style>\n<table border=\"1\" class=\"dataframe\">\n  <thead>\n    <tr style=\"text-align: right;\">\n      <th></th>\n      <th></th>\n      <th>검색키워드</th>\n      <th>연관키워드</th>\n      <th>volume</th>\n    </tr>\n  </thead>\n  <tbody>\n    <tr>\n      <th rowspan=\"20\" valign=\"top\">공유자전거</th>\n      <th>5</th>\n      <td>공유자전거</td>\n      <td>노펑크 자전거</td>\n      <td>1800</td>\n    </tr>\n    <tr>\n      <th>15</th>\n      <td>공유자전거</td>\n      <td>anm 자전거</td>\n      <td>1997</td>\n    </tr>\n    <tr>\n      <th>11</th>\n      <td>공유자전거</td>\n      <td>고양시 공유자전거</td>\n      <td>4631</td>\n    </tr>\n    <tr>\n      <th>13</th>\n      <td>공유자전거</td>\n      <td>천안 공유자전거</td>\n      <td>5411</td>\n    </tr>\n    <tr>\n      <th>17</th>\n      <td>공유자전거</td>\n      <td>4발 자전거</td>\n      <td>5475</td>\n    </tr>\n    <tr>\n      <th>7</th>\n      <td>공유자전거</td>\n      <td>배달용 자전거</td>\n      <td>6100</td>\n    </tr>\n    <tr>\n      <th>3</th>\n      <td>공유자전거</td>\n      <td>일산 공유자전거</td>\n      <td>6740</td>\n    </tr>\n    <tr>\n      <th>12</th>\n      <td>공유자전거</td>\n      <td>수원 공유자전거</td>\n      <td>10055</td>\n    </tr>\n    <tr>\n      <th>18</th>\n      <td>공유자전거</td>\n      <td>삼륜 자전거</td>\n      <td>12567</td>\n    </tr>\n    <tr>\n      <th>4</th>\n      <td>공유자전거</td>\n      <td>제주도 공유자전거</td>\n      <td>15015</td>\n    </tr>\n    <tr>\n      <th>6</th>\n      <td>공유자전거</td>\n      <td>대구 공유자전거</td>\n      <td>15679</td>\n    </tr>\n    <tr>\n      <th>0</th>\n      <td>공유자전거</td>\n      <td>전기자전거샵</td>\n      <td>15696</td>\n    </tr>\n    <tr>\n      <th>8</th>\n      <td>공유자전거</td>\n      <td>경기도 공유자전거</td>\n      <td>17908</td>\n    </tr>\n    <tr>\n      <th>10</th>\n      <td>공유자전거</td>\n      <td>인천 공유자전거</td>\n      <td>20649</td>\n    </tr>\n    <tr>\n      <th>14</th>\n      <td>공유자전거</td>\n      <td>부산 공유자전거</td>\n      <td>22864</td>\n    </tr>\n    <tr>\n      <th>9</th>\n      <td>공유자전거</td>\n      <td>모터자전거</td>\n      <td>109300</td>\n    </tr>\n    <tr>\n      <th>16</th>\n      <td>공유자전거</td>\n      <td>배달 자전거</td>\n      <td>163325</td>\n    </tr>\n    <tr>\n      <th>2</th>\n      <td>공유자전거</td>\n      <td>충전 자전거</td>\n      <td>188423</td>\n    </tr>\n    <tr>\n      <th>1</th>\n      <td>공유자전거</td>\n      <td>국내자전거</td>\n      <td>355131</td>\n    </tr>\n    <tr>\n      <th>19</th>\n      <td>공유자전거</td>\n      <td>전기 자전거</td>\n      <td>505346</td>\n    </tr>\n  </tbody>\n</table>\n</div>"
     },
     "execution_count": 400,
     "metadata": {},
     "output_type": "execute_result"
    }
   ],
   "source": [
    "bicycle = df2.groupby('검색키워드').get_group('공유자전거').sort_values('volume')\n",
    "bicycle"
   ],
   "metadata": {
    "collapsed": false,
    "pycharm": {
     "name": "#%%\n"
    }
   }
  },
  {
   "cell_type": "code",
   "execution_count": 410,
   "outputs": [
    {
     "data": {
      "text/plain": "<Figure size 432x288 with 1 Axes>",
      "image/png": "[encoded data removed]"
     },
     "metadata": {},
     "output_type": "display_data"
    }
   ],
   "source": [
    "plt.pie(bicycle['volume'][-3:],\n",
    "        labels=bicycle.iloc[-3:, 1],\n",
    "        startangle=90,\n",
    "        shadow=True)\n",
    "plt.show()"
   ],
   "metadata": {
    "collapsed": false,
    "pycharm": {
     "name": "#%%\n"
    }
   }
  },
  {
   "cell_type": "markdown",
   "source": [
    "---\n",
    "## 공유자전거, 따릉이, 전동킥보드, 카카오자전거, 퍼스널모빌리티의 연관키워드 중 자주 나온 단어"
   ],
   "metadata": {
    "collapsed": false,
    "pycharm": {
     "name": "#%% md\n"
    }
   }
  },
  {
   "cell_type": "code",
   "execution_count": null,
   "outputs": [],
   "source": [
    "df3 = df2.drop('검색키워드', axis=1)\n",
    "df3"
   ],
   "metadata": {
    "collapsed": false,
    "pycharm": {
     "name": "#%%\n"
    }
   }
  },
  {
   "cell_type": "code",
   "execution_count": 260,
   "outputs": [
    {
     "data": {
      "text/plain": "                 0      1     2\n공유자전거   0   전기자전거샵   None  None\n        1    국내자전거   None  None\n        2       충전    자전거  None\n        3       일산  공유자전거  None\n        4      제주도  공유자전거  None\n...            ...    ...   ...\n퍼스널모빌리티 15     스쿠터   None  None\n        16      전동    스쿠터  None\n        17      전기    스쿠터  None\n        18      전동    킥보드  None\n        19      전기    자전거  None\n\n[78 rows x 3 columns]",
      "text/html": "<div>\n<style scoped>\n    .dataframe tbody tr th:only-of-type {\n        vertical-align: middle;\n    }\n\n    .dataframe tbody tr th {\n        vertical-align: top;\n    }\n\n    .dataframe thead th {\n        text-align: right;\n    }\n</style>\n<table border=\"1\" class=\"dataframe\">\n  <thead>\n    <tr style=\"text-align: right;\">\n      <th></th>\n      <th></th>\n      <th>0</th>\n      <th>1</th>\n      <th>2</th>\n    </tr>\n  </thead>\n  <tbody>\n    <tr>\n      <th rowspan=\"5\" valign=\"top\">공유자전거</th>\n      <th>0</th>\n      <td>전기자전거샵</td>\n      <td>None</td>\n      <td>None</td>\n    </tr>\n    <tr>\n      <th>1</th>\n      <td>국내자전거</td>\n      <td>None</td>\n      <td>None</td>\n    </tr>\n    <tr>\n      <th>2</th>\n      <td>충전</td>\n      <td>자전거</td>\n      <td>None</td>\n    </tr>\n    <tr>\n      <th>3</th>\n      <td>일산</td>\n      <td>공유자전거</td>\n      <td>None</td>\n    </tr>\n    <tr>\n      <th>4</th>\n      <td>제주도</td>\n      <td>공유자전거</td>\n      <td>None</td>\n    </tr>\n    <tr>\n      <th>...</th>\n      <th>...</th>\n      <td>...</td>\n      <td>...</td>\n      <td>...</td>\n    </tr>\n    <tr>\n      <th rowspan=\"5\" valign=\"top\">퍼스널모빌리티</th>\n      <th>15</th>\n      <td>스쿠터</td>\n      <td>None</td>\n      <td>None</td>\n    </tr>\n    <tr>\n      <th>16</th>\n      <td>전동</td>\n      <td>스쿠터</td>\n      <td>None</td>\n    </tr>\n    <tr>\n      <th>17</th>\n      <td>전기</td>\n      <td>스쿠터</td>\n      <td>None</td>\n    </tr>\n    <tr>\n      <th>18</th>\n      <td>전동</td>\n      <td>킥보드</td>\n      <td>None</td>\n    </tr>\n    <tr>\n      <th>19</th>\n      <td>전기</td>\n      <td>자전거</td>\n      <td>None</td>\n    </tr>\n  </tbody>\n</table>\n<p>78 rows × 3 columns</p>\n</div>"
     },
     "execution_count": 260,
     "metadata": {},
     "output_type": "execute_result"
    }
   ],
   "source": [
    "word = df3['연관키워드'].str.split(expand=True)\n",
    "word"
   ],
   "metadata": {
    "collapsed": false,
    "pycharm": {
     "name": "#%%\n"
    }
   }
  },
  {
   "cell_type": "code",
   "execution_count": 296,
   "outputs": [],
   "source": [
    "word2 = []\n",
    "for column in word:\n",
    "    word2.extend(list(word[column]))\n",
    "word3 = pd.Series(word2).value_counts()\n",
    "word4 = pd.DataFrame(word3, columns=['빈도수'])\n",
    "word5 = word4.iloc[:8, ]\n",
    "word5"
   ],
   "metadata": {
    "collapsed": false,
    "pycharm": {
     "name": "#%%\n"
    }
   }
  },
  {
   "cell_type": "code",
   "execution_count": 308,
   "outputs": [
    {
     "data": {
      "text/plain": "<Figure size 432x288 with 1 Axes>",
      "image/png": "[encoded data removed]"
     },
     "metadata": {},
     "output_type": "display_data"
    }
   ],
   "source": [
    "plt.pie(word5['빈도수'],\n",
    "        labels=list(word5.index),\n",
    "        explode=(0.1, 0.1, 0.1, 0, 0, 0, 0, 0),\n",
    "        shadow=True,\n",
    "        startangle=90)\n",
    "plt.xlabel('7월 연관키워드')\n",
    "plt.show()"
   ],
   "metadata": {
    "collapsed": false,
    "pycharm": {
     "name": "#%%\n"
    }
   }
  },
  {
   "cell_type": "markdown",
   "source": [
    "---\n",
    "## 6개의 키워드가 쓰인 기간"
   ],
   "metadata": {
    "collapsed": false,
    "pycharm": {
     "name": "#%% md\n"
    }
   }
  },
  {
   "cell_type": "code",
   "execution_count": 329,
   "outputs": [],
   "source": [
    "keybirth = pd.read_csv('../data/키워드최초등장일.csv')"
   ],
   "metadata": {
    "collapsed": false,
    "pycharm": {
     "name": "#%%\n"
    }
   }
  },
  {
   "cell_type": "code",
   "execution_count": 335,
   "outputs": [],
   "source": [
    "keybirth['키워드 최초 등장일'] = pd.to_datetime(keybirth['키워드 최초 등장일'])"
   ],
   "metadata": {
    "collapsed": false,
    "pycharm": {
     "name": "#%%\n"
    }
   }
  },
  {
   "cell_type": "code",
   "execution_count": 367,
   "outputs": [
    {
     "data": {
      "text/plain": "       키워드 키워드 최초 등장일  사용기간(단위: 년)\n0   공유이동수단 2020-07-09            2\n1   카카오자전거 2017-09-12            5\n2    공유자전거 2017-03-11            5\n3  퍼스널모빌리티 2016-01-01            6\n4    전동킥보드 2016-01-01            6\n5      따릉이 2016-01-01            6",
      "text/html": "<div>\n<style scoped>\n    .dataframe tbody tr th:only-of-type {\n        vertical-align: middle;\n    }\n\n    .dataframe tbody tr th {\n        vertical-align: top;\n    }\n\n    .dataframe thead th {\n        text-align: right;\n    }\n</style>\n<table border=\"1\" class=\"dataframe\">\n  <thead>\n    <tr style=\"text-align: right;\">\n      <th></th>\n      <th>키워드</th>\n      <th>키워드 최초 등장일</th>\n      <th>사용기간(단위: 년)</th>\n    </tr>\n  </thead>\n  <tbody>\n    <tr>\n      <th>0</th>\n      <td>공유이동수단</td>\n      <td>2020-07-09</td>\n      <td>2</td>\n    </tr>\n    <tr>\n      <th>1</th>\n      <td>카카오자전거</td>\n      <td>2017-09-12</td>\n      <td>5</td>\n    </tr>\n    <tr>\n      <th>2</th>\n      <td>공유자전거</td>\n      <td>2017-03-11</td>\n      <td>5</td>\n    </tr>\n    <tr>\n      <th>3</th>\n      <td>퍼스널모빌리티</td>\n      <td>2016-01-01</td>\n      <td>6</td>\n    </tr>\n    <tr>\n      <th>4</th>\n      <td>전동킥보드</td>\n      <td>2016-01-01</td>\n      <td>6</td>\n    </tr>\n    <tr>\n      <th>5</th>\n      <td>따릉이</td>\n      <td>2016-01-01</td>\n      <td>6</td>\n    </tr>\n  </tbody>\n</table>\n</div>"
     },
     "execution_count": 367,
     "metadata": {},
     "output_type": "execute_result"
    }
   ],
   "source": [
    "keybirth['사용기간(단위: 년)'] =\\\n",
    "    datetime.datetime.today().year\\\n",
    "    - keybirth['키워드 최초 등장일'].dt.year\n",
    "keybirth.sort_values(by='사용기간(단위: 년)', ignore_index=True)"
   ],
   "metadata": {
    "collapsed": false,
    "pycharm": {
     "name": "#%%\n"
    }
   }
  },
  {
   "cell_type": "code",
   "execution_count": 463,
   "outputs": [
    {
     "data": {
      "text/plain": "<Figure size 432x288 with 1 Axes>",
      "image/png": "[encoded data removed]"
     },
     "metadata": {
      "needs_background": "light"
     },
     "output_type": "display_data"
    }
   ],
   "source": [
    "x = np.arange(6)\n",
    "y = keybirth['사용기간(단위: 년)']\n",
    "labels = keybirth['키워드']\n",
    "\n",
    "plt.bar(x, y, color='#4CAF50')\n",
    "plt.title('6개의 키워드가 사용된 기간')\n",
    "plt.ylabel('사용기간(단위: 년)')\n",
    "plt.xticks(x, labels, rotation=45)\n",
    "# plt.margins(0.2)\n",
    "plt.subplots_adjust(bottom=0.15)\n",
    "\n",
    "plt.show()"
   ],
   "metadata": {
    "collapsed": false,
    "pycharm": {
     "name": "#%%\n"
    }
   }
  }
 ],
 "metadata": {
  "kernelspec": {
   "display_name": "Python 3",
   "language": "python",
   "name": "python3"
  },
  "language_info": {
   "codemirror_mode": {
    "name": "ipython",
    "version": 2
   },
   "file_extension": ".py",
   "mimetype": "text/x-python",
   "name": "python",
   "nbconvert_exporter": "python",
   "pygments_lexer": "ipython2",
   "version": "2.7.6"
  }
 },
 "nbformat": 4,
 "nbformat_minor": 0
}