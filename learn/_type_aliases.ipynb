{
 "cells": [
  {
   "cell_type": "markdown",
   "metadata": {},
   "source": [
    "# Type aliases\n",
    "\n",
    "[PEP 484 Suggested syntax for Python 2.7 and straddling code](https://peps.python.org/pep-0484/)"
   ]
  },
  {
   "cell_type": "markdown",
   "metadata": {},
   "source": [
    "- simple variable assignments"
   ]
  },
  {
   "cell_type": "code",
   "execution_count": null,
   "metadata": {},
   "outputs": [],
   "source": [
    "def retry(url: str, retry_count: int) -> None: ...\n",
    "retry('https://peps.python.org', 3)"
   ]
  },
  {
   "cell_type": "markdown",
   "metadata": {},
   "source": [
    "- Generics"
   ]
  },
  {
   "cell_type": "code",
   "execution_count": null,
   "metadata": {},
   "outputs": [],
   "source": [
    "from typing import Sequence, TypeVar\n",
    "\n",
    "T = TypeVar('T')  # Declare type variable\n",
    "\n",
    "def first(l: Sequence[T]) -> T:  # Generic function\n",
    "    return l[0]\n",
    "\n",
    "def notify_by_email(employees: Set[Employee], overrides: Mapping[str, str]) -> None: ..."
   ]
  },
  {
   "cell_type": "markdown",
   "metadata": {},
   "source": [
    "- from typing import TypeVar, Iterable, Tuple"
   ]
  },
  {
   "cell_type": "code",
   "execution_count": null,
   "metadata": {},
   "outputs": [],
   "source": [
    "from typing import TypeVar, Iterable, Tuple\n",
    "\n",
    "T = TypeVar('T', int, float, complex)\n",
    "Vector = Iterable[Tuple[T, T]]\n",
    "\n",
    "def inproduct(v: Vector[T]) -> T:\n",
    "    return sum(x*y for x, y in v)\n",
    "def dilate(v: Vector[T], scale: T) -> Vector[T]:\n",
    "    return ((x * scale, y * scale) for x, y in v)\n",
    "vec = []  # type: Vector[float]\n",
    "\n",
    "\n",
    "# equivalent to\n",
    "T = TypeVar('T', int, float, complex)\n",
    "\n",
    "def inproduct(v: Iterable[Tuple[T, T]]) -> T:\n",
    "    return sum(x*y for x, y in v)\n",
    "def dilate(v: Iterable[Tuple[T, T]], scale: T) -> Iterable[Tuple[T, T]]:\n",
    "    return ((x * scale, y * scale) for x, y in v)\n",
    "vec = []  # type: Iterable[Tuple[float, float]]"
   ]
  },
  {
   "cell_type": "markdown",
   "metadata": {},
   "source": [
    "- Callable"
   ]
  },
  {
   "cell_type": "code",
   "execution_count": null,
   "metadata": {},
   "outputs": [],
   "source": [
    "from typing import Callable\n",
    "\n",
    "def feeder(get_next_item: Callable[[], str]) -> None:\n",
    "    # Body\n",
    "\n",
    "def async_query(on_success: Callable[[int], None],\n",
    "                on_error: Callable[[int, Exception], None]) -> None:\n",
    "    # Body\n",
    "\n",
    "def partial(func: Callable[..., str], *args) -> Callable[..., str]:\n",
    "    # Body"
   ]
  },
  {
   "cell_type": "markdown",
   "metadata": {},
   "source": [
    "---\n",
    "# Type annotations"
   ]
  },
  {
   "cell_type": "code",
   "execution_count": null,
   "metadata": {},
   "outputs": [],
   "source": [
    "def add(a, b):  # type: (int, int) -> int\n",
    "    return a + b\n",
    "\n",
    "def embezzle(self, account, funds=1000000, *fake_receipts):\n",
    "    # type: (str, int, *str) -> None\n",
    "    \"\"\"Embezzle funds from account using fake receipts.\"\"\"\n",
    "    <code goes here>\n",
    "\n",
    "def f():\n",
    "    '''Docstring'''\n",
    "    # type: () -> None\n",
    "\n",
    "def send_email(address,     # type: Union[str, List[str]]\n",
    "               sender,      # type: str\n",
    "               cc,          # type: Optional[List[str]]\n",
    "               bcc,         # type: Optional[List[str]]\n",
    "               subject='',\n",
    "               body=None    # type: List[str]\n",
    "               ):\n",
    "    # type: (...) -> bool\n",
    "    \"\"\"Send an email message.  Return True if successful.\"\"\"\n",
    "    <code>"
   ]
  }
 ],
 "metadata": {
  "kernelspec": {
   "display_name": "Python 3.10.5 64-bit (windows store)",
   "language": "python",
   "name": "python3"
  },
  "language_info": {
   "name": "python",
   "version": "3.10.5"
  },
  "orig_nbformat": 4,
  "vscode": {
   "interpreter": {
    "hash": "ea3f6746486f31091caa5d43224901001d3fc68b3fa4f0f03eb98e93ff55c152"
   }
  }
 },
 "nbformat": 4,
 "nbformat_minor": 2
}
