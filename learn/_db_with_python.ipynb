{
 "cells": [
  {
   "cell_type": "markdown",
   "metadata": {},
   "source": [
    "# Python으로 DB 다루기\n",
    "\n",
    "connect()로 연결하고 cursor() 포인터로 데이터에 접근해서 데이터베이스를 실행시킨다.\n",
    "\n",
    "- pymysql\n",
    "- sqlite3\n",
    "- pyodbc"
   ]
  },
  {
   "cell_type": "code",
   "execution_count": null,
   "metadata": {},
   "outputs": [],
   "source": [
    "import datetime\n",
    "import random\n",
    "import pymysql\n",
    "\n",
    "\n",
    "def insertData(table: str, **data: dict):\n",
    "\t\"\"\"INSERT INTO [table] ([field]) VALUES ([values])\n",
    "\ti.g.\n",
    "\ttable = person\n",
    "\tdata = {name='Jane', age=11}\n",
    "\t\"\"\"\n",
    "\tfor field, value in data.items():\n",
    "\t\tcommand = f'INSERT INTO {table} ({field}) VALUES ({value})'\n",
    "\t\tdb.execute(command)\n",
    "\tdb.connection.commit()\n",
    "\tdb.close()\n",
    "\n",
    "\n",
    "def updateData():\n",
    "\t\"\"\"UPDATE [table] SET [field]=[value] WHERE [condition]\"\"\"\n",
    "\tpass"
   ]
  },
  {
   "cell_type": "code",
   "execution_count": null,
   "metadata": {},
   "outputs": [],
   "source": [
    "conn = pymysql.connect(\n",
    "\thost='127.0.0.1',  # localhost\n",
    "\tuser='user0728',\n",
    "\tpassword='test1234',\n",
    "\t# database='sakila',\n",
    "\tcharset='utf8'\n",
    ")\n",
    "\n",
    "# db = conn.cursor(pymysql.cursors.DictCursor)\n",
    "db = conn.cursor()\n",
    "random.seed(datetime.datetime.now())\n",
    "\n",
    "# db.execute('show databases')\n",
    "# print(db.fetchall())\n",
    "\n",
    "insertData('person', name='John', age=22)\n",
    "conn.close()"
   ]
  },
  {
   "cell_type": "code",
   "execution_count": null,
   "metadata": {},
   "outputs": [],
   "source": [
    "import pandas\n",
    "import sqlite3\n",
    "\n",
    "\n",
    "conn = sqlite3.connect('test.db')\n",
    "db = conn.cursor()\n",
    "db.execute('create table person (name, age)')\n",
    "db.execute('insert into person values (\"Ali\", 22)')\n",
    "values = [('Brandon', 55), ('Rosse', 33)]\n",
    "db.executemany('insert into person values (%s, %d)', values)\n",
    "conn.commit()\n",
    "\n",
    "# db.fetchone()  # 하나만 가져올때\n",
    "data = db.fetchall()\n",
    "print(type(data))\n",
    "print(*data, sep='\\n')\n",
    "\n",
    "# 결과를 pandas dataframe으로 보기\n",
    "result = db.fetchall()\n",
    "pandas.DataFrame(result, index=[0])  # 에러 대비 인덱스 명시\n",
    "conn.close()\n",
    "\n",
    "# sql script 실행 방법\n",
    "conn = sqlite3.connect('test.sqlite3')\n",
    "db = conn.cursor()\n",
    "\n",
    "f = open('create_db.sql', mode='r')\n",
    "string = f.read()\n",
    "db.execute(string)\n",
    "conn.commit()  # 테이블 변화 적용\n",
    "conn.close()"
   ]
  },
  {
   "cell_type": "code",
   "execution_count": null,
   "metadata": {},
   "outputs": [],
   "source": [
    "import pyodbc\n",
    "import pandas as pd\n",
    "\n",
    "\n",
    "df = pd.read_csv('test.csv')\n",
    "\n",
    "# server = 'localhost\\sqlexpress' # instance name \n",
    "# server = 'myserver,port' # to specify an alternate port\n",
    "server = 'server_name'\n",
    "database = 'database_name'\n",
    "username = 'username'\n",
    "password = 'password'\n",
    "\n",
    "# 'DRIVER={SQL Server};\n",
    "# 'SERVER=localhost';\n",
    "# 'DATABASE=test_db';\n",
    "# 'UID=user0728';\n",
    "# 'PWD=1234';\n",
    "cnxn = pyodbc.connect('DRIVER={SQL Server};SERVER='+server+';DATABASE='+database+';UID='+username+';PWD='+ password+';')\n",
    "cursor = cnxn.cursor()\n",
    "\n",
    "# insert Dataframe into SQL Server:\n",
    "for index, row in df.iterrows():\n",
    "     cursor.execute(\"INSERT INTO databasename.tablename(column1, column2) values(?,?)\", row.column1, row.column2)\n",
    "cnxn.commit()\n",
    "cursor.close()"
   ]
  }
 ],
 "metadata": {
  "kernelspec": {
   "display_name": "Python 3.9.12 ('base')",
   "language": "python",
   "name": "python3"
  },
  "language_info": {
   "codemirror_mode": {
    "name": "ipython",
    "version": 3
   },
   "file_extension": ".py",
   "mimetype": "text/x-python",
   "name": "python",
   "nbconvert_exporter": "python",
   "pygments_lexer": "ipython3",
   "version": "3.9.12"
  },
  "orig_nbformat": 4,
  "vscode": {
   "interpreter": {
    "hash": "6588f8885393062c84ca3cf98915dd362f3bc7e17a1550b6766decbdfd1308b9"
   }
  }
 },
 "nbformat": 4,
 "nbformat_minor": 2
}
