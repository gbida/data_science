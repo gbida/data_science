{
 "cells": [
  {
   "cell_type": "markdown",
   "metadata": {},
   "source": [
    "# [sqlclass_db] database와 [world] table 생성하기\n",
    "\n",
    "- [world] table에 들어갈 text 작업\n",
    "\t- 문자열은 ' '로 감싸기\n",
    "\t- 숫자는 숫자 그대로\n",
    "\t- 예시: 'South Korea', 'Asia', 100210, 50423955, 'Seoul', '.kr'"
   ]
  },
  {
   "cell_type": "code",
   "execution_count": 27,
   "metadata": {},
   "outputs": [],
   "source": [
    "text = '''Afghanistan, Asia, 652230, 25500100, Kabul, .af\n",
    "Algeria, Africa, 2381741, 38700000, Algiers, .dz\n",
    "New Zealand, Oceania, 270467, 4538520, Wellington, .nz\n",
    "Australia, Oceania, 7692024, 23545500, Canberra, .au\n",
    "Brazil, South America, 8515767, 202794000, Brasilia, .br\n",
    "China, Asia, 9596961, 1365370000, Beijing, .cn\n",
    "India, Asia, 3166414, 1246160000, New Delhi, .in\n",
    "Russia, Eurasia, 17125242, 146000000, Moscow, .ru\n",
    "France, Europe, 640679, 65906000, Paris, .fr\n",
    "Germany, Europe, 357114, 80716000, Berlin, .de\n",
    "Denmark, Europe, 43094, 5634437, Copenhagen, .dk\n",
    "Norway, Europe, 323802, 5124383, Oslo, .no\n",
    "Sweden, Europe, 450295, 9675885, Stockholm, .se\n",
    "South Korea, Asia, 100210, 50423955, Seoul, .kr\n",
    "Canada, North America, 9984670, 35427524, Ottawa, .ca\n",
    "United States, North America, 9826675, 318320000, Washington,D.C., .us\n",
    "Armenia, Eurasia, 29743, 3017400, Yerevan, .am'''"
   ]
  },
  {
   "cell_type": "code",
   "execution_count": 44,
   "metadata": {},
   "outputs": [
    {
     "name": "stdout",
     "output_type": "stream",
     "text": [
      "['Afghanistan', 'Asia', ' 652230', ' 25500100', 'Kabul', '.af', '\\n', 'Algeria', 'Africa', ' 2381741', ' 38700000', 'Algiers', '.dz', '\\n', 'NewZealand', 'Oceania', ' 270467', ' 4538520', 'Wellington', '.nz', '\\n', 'Australia', 'Oceania', ' 7692024', ' 23545500', 'Canberra', '.au', '\\n', 'Brazil', 'SouthAmerica', ' 8515767', ' 202794000', 'Brasilia', '.br', '\\n', 'China', 'Asia', ' 9596961', ' 1365370000', 'Beijing', '.cn', '\\n', 'India', 'Asia', ' 3166414', ' 1246160000', 'NewDelhi', '.in', '\\n', 'Russia', 'Eurasia', ' 17125242', ' 146000000', 'Moscow', '.ru', '\\n', 'France', 'Europe', ' 640679', ' 65906000', 'Paris', '.fr', '\\n', 'Germany', 'Europe', ' 357114', ' 80716000', 'Berlin', '.de', '\\n', 'Denmark', 'Europe', ' 43094', ' 5634437', 'Copenhagen', '.dk', '\\n', 'Norway', 'Europe', ' 323802', ' 5124383', 'Oslo', '.no', '\\n', 'Sweden', 'Europe', ' 450295', ' 9675885', 'Stockholm', '.se', '\\n', 'SouthKorea', 'Asia', ' 100210', ' 50423955', 'Seoul', '.kr', '\\n', 'Canada', 'NorthAmerica', ' 9984670', ' 35427524', 'Ottawa', '.ca', '\\n', 'UnitedStates', 'NorthAmerica', ' 9826675', ' 318320000', 'Washington', 'D.C.', '.us', '\\n', 'Armenia', 'Eurasia', ' 29743', ' 3017400', 'Yerevan', '.am', '\\n']\n"
     ]
    }
   ],
   "source": [
    "lines = text.split('\\n')\n",
    "result = []\n",
    "for line in lines:\n",
    "\ttoken = line.split(',')\n",
    "\tfor t in token:\n",
    "\t\ttry:\n",
    "\t\t\tint(t)\n",
    "\t\texcept ValueError:\n",
    "\t\t\tt = f'{t}'\n",
    "\t\t\tt = t.replace(' ', '')\n",
    "\t\t\tresult.extend([t])\n",
    "\t\telse:\n",
    "\t\t\tresult.extend([t.replace(\"'\", '')])\n",
    "\tresult.extend('\\n')\n",
    "print(result)\n"
   ]
  }
 ],
 "metadata": {
  "kernelspec": {
   "display_name": "Python 3.9.12 ('base')",
   "language": "python",
   "name": "python3"
  },
  "language_info": {
   "name": "python",
   "version": "3.9.12"
  },
  "orig_nbformat": 4,
  "vscode": {
   "interpreter": {
    "hash": "6588f8885393062c84ca3cf98915dd362f3bc7e17a1550b6766decbdfd1308b9"
   }
  }
 },
 "nbformat": 4,
 "nbformat_minor": 2
}
