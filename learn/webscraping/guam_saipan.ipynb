{
 "cells": [
  {
   "cell_type": "code",
   "execution_count": 1,
   "metadata": {},
   "outputs": [],
   "source": [
    "import time\n",
    "import urllib\n",
    "import requests\n",
    "import platform\n",
    "import matplotlib.pyplot as plt\n",
    "\n",
    "from platform import platform\n",
    "from bs4 import BeautifulSoup\n",
    "from konlpy.tag import Okt\n",
    "from collections import Counter\n",
    "from wordcloud import WordCloud"
   ]
  },
  {
   "cell_type": "code",
   "execution_count": 2,
   "metadata": {},
   "outputs": [],
   "source": [
    "def getText(search_kwrd, page_num=1, text=''):\n",
    "\t\"\"\"html page에서 text만 가져오는 함수\"\"\"\n",
    "\t# requests settings\n",
    "\tsession = requests.Session()\n",
    "\theaders = {'User-Agent': 'Mozilla/5.0 (Macintosh; Intel Mac OS X 10_9_5)'\\\n",
    "\t\t\t   'AppleWebKit 537.36 (KHTML, like Gecko) Chrome',\\\n",
    "\t\t\t   'Accept': 'text/html, application/xhtml+xml, application/xml;'\\\n",
    "\t\t\t   'q=0.9, image/webp, */*; q=0.8'}\n",
    "\t\n",
    "\t# url에 있는 한글 encoding \n",
    "\tsearch_kwrd_lst = search_kwrd.split()\n",
    "\tkeyword = ''\n",
    "\tfor k in search_kwrd_lst:\n",
    "\t\tkeyword = keyword + urllib.parse.quote(k) + '+'\n",
    "\tkeyword = keyword.rstrip('+')\n",
    "\n",
    "\t# scraping\n",
    "\tbs = []\n",
    "\tfor n in range(1, page_num+1):\n",
    "\t\treq = session.get(f'https://search.daum.net/search?p={n}&q={keyword}&w=fusion&DA=PGD&period=6m&sd=20220126215757&ed=20220726215757',\\\n",
    "\t\t\t\t\t\t  headers=headers)\n",
    "\t\ttime.sleep(1)\n",
    "\t\tbsobj = BeautifulSoup(req.text, 'html.parser')\n",
    "\n",
    "\t\t# Daum 통합웹 탭에서 해딩 키워드 검색 데이터\n",
    "\t\tbsobj = bsobj.find('ul', class_='list_info ty_doc')  \n",
    "\t\tbs.append(bsobj)\n",
    "\n",
    "\t# html tag를 제외한 text만 추출\n",
    "\tfor page in bs:\n",
    "\t\tpage = page.text\n",
    "\t\ttext += page.replace(' ', '')\n",
    "\t\tfor i in range(len(search_kwrd_lst)):\n",
    "\t\t\ttext += text.replace(search_kwrd_lst[i], '')\n",
    "\t\n",
    "\treturn text\n",
    "\n",
    "\n",
    "def mk_wordcloud(text):\n",
    "\t\"\"\"WordCloud 생성 함수\"\"\"\n",
    "\tokt = Okt()  # Open Korean Text 객체 생성\n",
    "\n",
    "\t# 명사와 형용사만 noun_adj_list에 추가\n",
    "\tsentences_tag = []\n",
    "\tsentences_tag = okt.pos(text)\n",
    "\tnoun_adj_list = []\n",
    "\tfor word, tag in sentences_tag:\n",
    "\t\tif tag in ['Noun' , 'Adjective']:\n",
    "\t\t\tnoun_adj_list.append(word)\n",
    "\n",
    "\t# 가장 많이 나온 단어 40개 저장\n",
    "\tcounts = Counter(noun_adj_list)\n",
    "\ttags = counts.most_common(40)\n",
    "\n",
    "\t# 한글 분석을 위한 font path 설정\n",
    "\tif platform.system() == 'Windows':\n",
    "\t\tpath = r'c:\\Windows\\Fonts\\malgun.ttf'\n",
    "\telif platform.system() == 'Darwin':\n",
    "\t\tpath = r'/System/Library/Fonts/AppleGothic'\n",
    "\telse:\n",
    "\t\tpath = r'/usr/share/fonts/truetype/name/NanumMyeongjo.ttf'\n",
    "\n",
    "\t# WordCloud 생성\n",
    "\twc = WordCloud(font_path=path, background_color=\"white\", max_font_size=50)\n",
    "\tcloud = wc.generate_from_frequencies(dict(tags))\n",
    "\n",
    "\t# WordCloud 출력\n",
    "\tcloud.to_file('guam_sipan.png')\n",
    "\tplt.figure(figsize=(10, 10))\n",
    "\tplt.axis('off')\n",
    "\tplt.imshow(cloud)\n",
    "\tplt.show()"
   ]
  },
  {
   "cell_type": "code",
   "execution_count": 3,
   "metadata": {},
   "outputs": [],
   "source": [
    "if __name__ == '__main__':\n",
    "\tkeyword = '괌 사이판 여행'  # 검색 키워드\n",
    "\ttext = getText(search_kwrd=keyword, page_num=3)  # 1~5페이지 scraping\n",
    "\tmk_wordcloud(text)"
   ]
  }
 ],
 "metadata": {
  "kernelspec": {
   "display_name": "Python 3.9.12 ('base': conda)",
   "language": "python",
   "name": "python3"
  },
  "language_info": {
   "codemirror_mode": {
    "name": "ipython",
    "version": 3
   },
   "file_extension": ".py",
   "mimetype": "text/x-python",
   "name": "python",
   "nbconvert_exporter": "python",
   "pygments_lexer": "ipython3",
   "version": "3.9.12"
  },
  "orig_nbformat": 4,
  "vscode": {
   "interpreter": {
    "hash": "6588f8885393062c84ca3cf98915dd362f3bc7e17a1550b6766decbdfd1308b9"
   }
  }
 },
 "nbformat": 4,
 "nbformat_minor": 2
}
