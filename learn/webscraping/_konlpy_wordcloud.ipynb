{
 "cells": [
  {
   "cell_type": "markdown",
   "metadata": {},
   "source": [
    "# Okt module from konlpy.tag \n",
    "\n",
    "- Okt.pos()\n",
    "- Okt.nouns()\n",
    "- Okt.morphs()"
   ]
  },
  {
   "cell_type": "code",
   "execution_count": 58,
   "metadata": {},
   "outputs": [],
   "source": [
    "import platform\n",
    "import matplotlib.pyplot as plt\n",
    "\n",
    "from konlpy.tag import Okt #, Kkma, Komoran\n",
    "from collections import Counter\n",
    "\n",
    "\n",
    "def mkWordcloud(most_comm_list, img_file_name):\n",
    "\t\"\"\"Make WordCloud\n",
    "\tArgs:\n",
    "\t\tmost_comm_list: Counter().most_common()\t\n",
    "\t\"\"\"\n",
    "\timport matplotlib.pyplot as plt\n",
    "\tfrom wordcloud import WordCloud\n",
    "\n",
    "\tif platform.system() == 'Windows':\n",
    "\t\tpath = r'C:\\Windows\\Fonts\\malgun.ttf'\n",
    "\telif platform.system() == 'Darwin':\n",
    "\t\tpath = r'/System/Library/Fonts/AppleGothic'\n",
    "\telse:\n",
    "\t\tpath = r'usr/share/fonts/truetype/name/NanumMyeongjo.ttf'\n",
    "\n",
    "\twc = WordCloud(font_path=path)\n",
    "\twc = wc.generate_from_frequencies(dict(most_comm_list))\n",
    "\twc.to_file(f'{img_file_name}.png')\n",
    "\n",
    "\tplt.figure(figsize=(5, 5))\n",
    "\tplt.axis('off')\n",
    "\tplt.imshow(wc);"
   ]
  },
  {
   "cell_type": "code",
   "execution_count": 34,
   "metadata": {},
   "outputs": [
    {
     "name": "stdout",
     "output_type": "stream",
     "text": [
      "한글 문장 예제입니다. 조사가 있습니다.\n",
      "\n",
      "stem=True\n",
      "[('한글', 'Noun'), ('문장', 'Noun'), ('예제', 'Noun'), ('이다', 'Adjective'), ('.', 'Punctuation'), ('조사', 'Noun'), ('가', 'Josa'), ('있다', 'Adjective'), ('.', 'Punctuation')]\n",
      "\n",
      "stem=False\n",
      "[('한글', 'Noun'), ('문장', 'Noun'), ('예제', 'Noun'), ('입니다', 'Adjective'), ('.', 'Punctuation'), ('조사', 'Noun'), ('가', 'Josa'), ('있습니다', 'Adjective'), ('.', 'Punctuation')]\n",
      "\n",
      "명사만 리턴\n",
      "['한글', '문장', '예제', '조사']\n",
      "\n",
      "형태소 단위로 나눔\n",
      "['한글', '문장', '예제', '입니다', '.', '조사', '가', '있습니다', '.']\n",
      "\n",
      "어절 추출\n",
      "['한글', '한글 문장', '한글 문장 예제', '조사', '문장', '예제']\n"
     ]
    }
   ],
   "source": [
    "# text = 'Open Korean Text'\n",
    "text = '한글 문장 예제입니다. 조사가 있습니다.'\n",
    "\n",
    "okt = Okt()\n",
    "print(text)\n",
    "\n",
    "print('\\n' + 'stem=True')\n",
    "print(okt.pos(text, norm=True, stem=True))\n",
    "\n",
    "print('\\n' + 'stem=False')\n",
    "print(okt.pos(text))\n",
    "\n",
    "print('\\n' + '명사만 리턴')\n",
    "print(okt.nouns(text))\n",
    "\n",
    "print('\\n' + '형태소 단위로 나눔')\n",
    "print(okt.morphs(text))\n",
    "\n",
    "print('\\n' + '어절 추출')\n",
    "print(okt.phrases(text))"
   ]
  },
  {
   "cell_type": "code",
   "execution_count": 49,
   "metadata": {},
   "outputs": [
    {
     "name": "stdout",
     "output_type": "stream",
     "text": [
      "\n",
      "set().add\n",
      "{'새로', '것', '스물', '달라', '중국', '우매', '있어도', '많다', '사람', '마침내', '편하게', '표현', '나랏말', '말', '내', '뿐', '데', '제', '쉬', '뜻', '여덟', '날', '한자', '통', '아니하므로', '딱하게', '서로', '백성'}\n",
      "\n",
      "list().append\n",
      "['나랏말', '중국', '달라', '한자', '서로', '통', '아니하므로', '우매', '백성', '말', '것', '있어도', '마침내', '제', '뜻', '표현', '사람', '많다', '내', '딱하게', '새로', '스물', '여덟', '사람', '쉬', '날', '데', '편하게', '뿐']\n"
     ]
    }
   ],
   "source": [
    "# tag가 명사 또는 동사인 단어만 noun_adj_lst에 추가\n",
    "text = '나랏말이 중국과 달라 한자와 서로 통하지 아니하므로,\t\\\n",
    "\t\t우매한 백성들이 말하고 싶은 것이 있어도 마침내 제 뜻을 잘 표현하지 못하는 사람이 많다.\\\n",
    "\t\t내 이를 딱하게 여기어 새로 스물여덟 자를 만들었으니,\t\\\n",
    "\t\t사람들로 하여금 쉬 익히어 날마다 쓰는 데 편하게 할 뿐이다.'\n",
    "\n",
    "noun_adj_lst = set()\n",
    "noun_adj_lst2 = []\n",
    "for word, tag in okt.pos(text):\n",
    "\tif tag in ['Noun', 'Adjective']:\n",
    "\t\tnoun_adj_lst.add(word)\n",
    "\t\tnoun_adj_lst2.append(word)\n",
    "print('\\n' + 'set().add')\n",
    "print(noun_adj_lst)\n",
    "\n",
    "print('\\n' + 'list().append')\n",
    "print(noun_adj_lst2)"
   ]
  },
  {
   "cell_type": "code",
   "execution_count": 52,
   "metadata": {},
   "outputs": [
    {
     "name": "stdout",
     "output_type": "stream",
     "text": [
      "\n",
      "각 단어의 개수 세기\n",
      "Counter({'새로': 1, '것': 1, '스물': 1, '달라': 1, '중국': 1, '우매': 1, '있어도': 1, '많다': 1, '사람': 1, '마침내': 1, '편하게': 1, '표현': 1, '나랏말': 1, '말': 1, '내': 1, '뿐': 1, '데': 1, '제': 1, '쉬': 1, '뜻': 1, '여덟': 1, '날': 1, '한자': 1, '통': 1, '아니하므로': 1, '딱하게': 1, '서로': 1, '백성': 1})\n",
      "\n",
      "가장 많이 나온 단어 3개 저장\n",
      "[('새로', 1), ('것', 1), ('스물', 1)]\n"
     ]
    }
   ],
   "source": [
    "print('\\n' + '각 단어의 개수 세기')\n",
    "print(Counter(noun_adj_lst))\n",
    "\n",
    "print('\\n' + '가장 많이 나온 단어 3개 저장')\n",
    "frequency = Counter(noun_adj_lst).most_common(3)\n",
    "print(frequency)"
   ]
  },
  {
   "cell_type": "markdown",
   "metadata": {},
   "source": [
    "---\n",
    "## requests 다루기"
   ]
  },
  {
   "cell_type": "code",
   "execution_count": 16,
   "metadata": {},
   "outputs": [
    {
     "name": "stdout",
     "output_type": "stream",
     "text": [
      "http://www.tisotry.com/?key=value\n",
      "https://www.tisotry.com/?key=value\n",
      "<Response [200]>\n"
     ]
    }
   ],
   "source": [
    "import bs4\n",
    "import requests\n",
    "import json\n",
    "\n",
    "\n",
    "session = requests.Session()\n",
    "headers = {'User-Agent': 'Mozilla/5.0 (Macintosh; Intel Mac OS X 10_9_5)'\\\n",
    "\t\t   'AppleWebKit 537.36 (KHTML, like Gecko) Chrome',\\\n",
    "\t\t   'Accept': 'text/html, application/xhtml+xml, application/xml;'\\\n",
    "\t\t   'q=0.9, image/webp, */*; q=0.8'}\n",
    "\n",
    "params = {'key': 'value'}\n",
    "url = 'http://www.tisotry.com'\n",
    "url2 = 'https://www.tisotry.com'\n",
    "\n",
    "# response = session.get(url, headers=headers)\n",
    "# print('\\n' + 'https status code is', response.status_code)\n",
    "# print(response.text)\n",
    "\n",
    "res = requests.get(url, params=params)\n",
    "print(res.url)\n",
    "\n",
    "res2 = requests.get(url2, params=params)\n",
    "print(res2.url)\n",
    "\n",
    "# 조금 더 복잡한 구조로 POST 요청을 해야 할 때\n",
    "# data = {'param1': 'value1', 'param2': 'value2'}\n",
    "# res = requests.post(url, data=data)\n",
    "\n",
    "data = {'outer': {'inner': 'value'}}\n",
    "res = requests.post(url, data=json.dumps(data))\n",
    "print(res)\n",
    "\n",
    "# 헤더 및 쿠키 추가 예시\n",
    "headers = {'Content-Type': 'application/json; charset=utf-8'}\n",
    "cookies = {'session_id': 'dgkim5360.tistory.com/entry/phton-requests'}  # 임의로 적은 session_id 예시\n",
    "res = requests.get(url, headers=headers, cookies=cookies)"
   ]
  },
  {
   "cell_type": "markdown",
   "metadata": {},
   "source": [
    "---\n",
    "## WordCloud on Naver news title"
   ]
  },
  {
   "cell_type": "code",
   "execution_count": 44,
   "metadata": {},
   "outputs": [
    {
     "name": "stdout",
     "output_type": "stream",
     "text": [
      "['핀다, 빅데이터 상권분석 스타트업 오픈업 인수', '빅데이터 분석해 보이스피싱 막고 불합리한 법령 정비', 'AGL 빅데이터 리포트 “한국 골퍼 평균 50.3세”', '한국철도 휴가철 부정승차 단속 강화…빅데이터 등 활용', '신한카드, 말레이시아 정부에 빅데이터 노하우 전수', '신한카드, 기재부 주관 해외 빅데이터 정책 공유사업 참여', '[바이오헬스 육성] 바이오 전문가 1만7000명 양성·100만명 목표 빅데이터 구축', '尹 AI·디지털 의료 평가기간 단축...의료 빅데이터 법제화 주문', '아기화장품 브랜드평판 2022년 7월 빅데이터 분석결과', \"빨라지는 '조기퇴사'에 시름…AI·빅데이터가 '인사관리'\"]\n"
     ]
    }
   ],
   "source": [
    "import re\n",
    "import time\n",
    "\n",
    "from bs4 import BeautifulSoup\n",
    "\n",
    "\n",
    "start_num = 1\n",
    "end_num = 0\n",
    "search_kwrd = '빅데이터'\n",
    "\n",
    "# while True:\n",
    "\t# if start_num > end_num: break\n",
    "url = f'https://search.naver.com/search.naver?where=news&sm=tab_jum&query={search_kwrd}&start={start_num}'\n",
    "req = requests.get(url)\n",
    "time.sleep(1)\n",
    "\n",
    "title_lst = []\n",
    "if req.ok:\n",
    "\tbs = BeautifulSoup(req.text, 'html.parser')\n",
    "\tlist_news = bs.find('ul', {'class': 'list_news'})\n",
    "\tli_list = list_news.find_all('li', {'id': re.compile('sp_nws.*')})\n",
    "\t# li_bxs = list_news.find_all('li', {'class': 'bx'})\n",
    "\tfor li in li_list:\n",
    "\t\tnews = li.find('a', {'class': 'news_tit'})\n",
    "\t\ttitle_lst.append(news['title'])\n",
    "# start_num += 10\n",
    "print(title_lst)"
   ]
  },
  {
   "cell_type": "code",
   "execution_count": 56,
   "metadata": {},
   "outputs": [
    {
     "name": "stdout",
     "output_type": "stream",
     "text": [
      "['핀다', '빅데이터', '상권', '분석', '스타트업', '오픈', '업', '인수', '빅데이터', '분석', '해', '보이스피싱', '막고', '불합리', '법령', '정비', '빅데이터', '리포트', '한국', '골퍼', '평균', '세', '한국', '철도', '휴가', '철', '부정승차', '단속', '강화', '빅데이터', '등', '활용', '신한카드', '말레이시아', '정부', '빅데이터', '노하우', '전수', '신한카드', '기재부', '주관', '해외', '빅데이터', '정책', '공유', '사업', '참여', '바이오', '헬스', '육성', '바이오', '전문가', '명', '양성', '목표', '빅데이터', '구축', '디지털', '의료', '평가', '기간', '단축', '의료', '빅데이터', '법', '제화', '주문', '아기', '화장품', '브랜드', '평판', '빅데이터', '분석', '결과', '빨라지는', '조기', '퇴사', '시름', '빅데이터', '인사', '관리']\n",
      "\n",
      "Counter({'빅데이터': 10, '분석': 3, '한국': 2, '신한카드': 2, '바이오': 2, '의료': 2, '핀다': 1, '상권': 1, '스타트업': 1, '오픈': 1, '업': 1, '인수': 1, '해': 1, '보이스피싱': 1, '막고': 1, '불합리': 1, '법령': 1, '정비': 1, '리포트': 1, '골퍼': 1, '평균': 1, '세': 1, '철도': 1, '휴가': 1, '철': 1, '부정승차': 1, '단속': 1, '강화': 1, '등': 1, '활용': 1, '말레이시아': 1, '정부': 1, '노하우': 1, '전수': 1, '기재부': 1, '주관': 1, '해외': 1, '정책': 1, '공유': 1, '사업': 1, '참여': 1, '헬스': 1, '육성': 1, '전문가': 1, '명': 1, '양성': 1, '목표': 1, '구축': 1, '디지털': 1, '평가': 1, '기간': 1, '단축': 1, '법': 1, '제화': 1, '주문': 1, '아기': 1, '화장품': 1, '브랜드': 1, '평판': 1, '결과': 1, '빨라지는': 1, '조기': 1, '퇴사': 1, '시름': 1, '인사': 1, '관리': 1})\n",
      "\n",
      "[('빅데이터', 10), ('분석', 3), ('한국', 2), ('신한카드', 2), ('바이오', 2), ('의료', 2), ('핀다', 1), ('상권', 1), ('스타트업', 1), ('오픈', 1)]\n"
     ]
    }
   ],
   "source": [
    "okt = Okt()\n",
    "\n",
    "nva = []\n",
    "for title in title_lst:\n",
    "\tword_tag = okt.pos(title)\n",
    "\tfor word, tag in word_tag:\n",
    "\t\tif tag in ['Noun', 'Verb', 'Adjective']:\n",
    "\t\t\tnva.append(word)\n",
    "print(nva)\n",
    "print()\n",
    "\n",
    "print(Counter(nva))\n",
    "print()\n",
    "\n",
    "frequency = Counter(nva).most_common(10)\n",
    "print(frequency)"
   ]
  },
  {
   "cell_type": "code",
   "execution_count": 59,
   "metadata": {},
   "outputs": [
    {
     "ename": "TypeError",
     "evalue": "imsave() missing 1 required positional argument: 'arr'",
     "output_type": "error",
     "traceback": [
      "\u001b[1;31m---------------------------------------------------------------------------\u001b[0m",
      "\u001b[1;31mTypeError\u001b[0m                                 Traceback (most recent call last)",
      "\u001b[1;32mc:\\Users\\lh\\berryHead\\learn\\webscraping\\_konlpy_wordcloud.ipynb 셀 11\u001b[0m in \u001b[0;36m<cell line: 1>\u001b[1;34m()\u001b[0m\n\u001b[1;32m----> <a href='vscode-notebook-cell:/c%3A/Users/lh/berryHead/learn/webscraping/_konlpy_wordcloud.ipynb#ch0000013?line=0'>1</a>\u001b[0m mkWordcloud(frequency)\n",
      "\u001b[1;32mc:\\Users\\lh\\berryHead\\learn\\webscraping\\_konlpy_wordcloud.ipynb 셀 11\u001b[0m in \u001b[0;36mmkWordcloud\u001b[1;34m(most_comm_list)\u001b[0m\n\u001b[0;32m     <a href='vscode-notebook-cell:/c%3A/Users/lh/berryHead/learn/webscraping/_konlpy_wordcloud.ipynb#ch0000013?line=24'>25</a>\u001b[0m plt\u001b[39m.\u001b[39mfigure(figsize\u001b[39m=\u001b[39m(\u001b[39m5\u001b[39m, \u001b[39m5\u001b[39m))\n\u001b[0;32m     <a href='vscode-notebook-cell:/c%3A/Users/lh/berryHead/learn/webscraping/_konlpy_wordcloud.ipynb#ch0000013?line=25'>26</a>\u001b[0m plt\u001b[39m.\u001b[39maxis(\u001b[39m'\u001b[39m\u001b[39moff\u001b[39m\u001b[39m'\u001b[39m)\n\u001b[1;32m---> <a href='vscode-notebook-cell:/c%3A/Users/lh/berryHead/learn/webscraping/_konlpy_wordcloud.ipynb#ch0000013?line=26'>27</a>\u001b[0m plt\u001b[39m.\u001b[39;49mimsave(wc)\n\u001b[0;32m     <a href='vscode-notebook-cell:/c%3A/Users/lh/berryHead/learn/webscraping/_konlpy_wordcloud.ipynb#ch0000013?line=27'>28</a>\u001b[0m plt\u001b[39m.\u001b[39mimshow(wc)\n",
      "\u001b[1;31mTypeError\u001b[0m: imsave() missing 1 required positional argument: 'arr'"
     ]
    },
    {
     "data": {
      "image/png": "[encoded data removed]",
      "text/plain": [
       "<Figure size 360x360 with 1 Axes>"
      ]
     },
     "metadata": {
      "needs_background": "light"
     },
     "output_type": "display_data"
    }
   ],
   "source": [
    "mkWordcloud(frequency)"
   ]
  }
 ],
 "metadata": {
  "kernelspec": {
   "display_name": "Python 3.9.12 ('base')",
   "language": "python",
   "name": "python3"
  },
  "language_info": {
   "codemirror_mode": {
    "name": "ipython",
    "version": 3
   },
   "file_extension": ".py",
   "mimetype": "text/x-python",
   "name": "python",
   "nbconvert_exporter": "python",
   "pygments_lexer": "ipython3",
   "version": "3.9.12"
  },
  "orig_nbformat": 4,
  "vscode": {
   "interpreter": {
    "hash": "6588f8885393062c84ca3cf98915dd362f3bc7e17a1550b6766decbdfd1308b9"
   }
  }
 },
 "nbformat": 4,
 "nbformat_minor": 2
}
