{
 "cells": [
  {
   "cell_type": "code",
   "execution_count": 35,
   "metadata": {},
   "outputs": [
    {
     "name": "stdout",
     "output_type": "stream",
     "text": [
      "전체 매장 수: 529\n"
     ]
    }
   ],
   "source": [
    "import os\n",
    "import pandas as pd\n",
    "\n",
    "from bs4 import BeautifulSoup\n",
    "from urllib.request import urlopen\n",
    "from urllib.error import HTTPError, URLError\n",
    "\n",
    "\n",
    "def main():\n",
    "\t# set branch's info as a DataFrame\n",
    "\tvalues = [[], [], [], []]\n",
    "\tfor n in range(1, 54):\n",
    "\t\ttry:\n",
    "\t\t\turl = f'https://www.hollys.co.kr/store/korea/korStore2.do?pageNo={n}&sido=&gugun=&store='\n",
    "\t\t\thtml = urlopen(url)\n",
    "\t\texcept (HTTPError, URLError) as e:\n",
    "\t\t\tprint(e)\n",
    "\t\t\treturn None\n",
    "\t\tbsobj = BeautifulSoup(html, 'html.parser')\n",
    "\t\tfor tr in bsobj.find_all('tr'):\n",
    "\t\t\ttd = tr.find_all('td')\n",
    "\t\t\tif td:\n",
    "\t\t\t\tvalues[0].append(td[0].text)\n",
    "\t\t\t\tvalues[1].append(td[1].text)\n",
    "\t\t\t\tvalues[2].append(td[3].text)\n",
    "\t\t\t\tvalues[3].append(td[5].text)\n",
    "\t\t\t\thollys_branches = pd.DataFrame({'매장이름': values[1], '위치(시,구)': values[0], \n",
    "\t\t\t\t\t\t\t\t\t\t\t\t'주소': values[2], '전화번호': values[3]})\n",
    "\n",
    "\t# display all Hollys branch\n",
    "\tprint()\n",
    "\tfor n in range(len()):\n",
    "\t\tprint(f'[{n+1:3d}]: '\n",
    "\t\t\tf'매장이름: {hollys_branches[\"매장이름\"][n]}, '\n",
    "\t\t\tf'지역: {hollys_branches[\"위치(시,구)\"][n]}, '\n",
    "\t\t\tf'주소: {hollys_branches[\"주소\"][n]}, '\n",
    "\t\t\tf'전화번호: {hollys_branches[\"전화번호\"][n]}')\n",
    "\tprint(f'전체 매장 수: {hollys_branches.shape[0]}')\n",
    "\n",
    "\n",
    "\t# save branch info as a csv file\n",
    "\tif not os.path.exists('./hollys_branches.csv'):\t\n",
    "\t\thollys_branches.to_csv('hollys_branches.csv', encoding='utf-8')\n",
    "\n",
    "\n",
    "# Find Hollys branch by the city\n",
    "def findHollys(city):\n",
    "\tbranch = pd.read_csv('./hollys_branches.csv')\n",
    "\t# '서울 동작' to ['서울', '동작']\n",
    "\tkeyword = city.split()\n",
    "\t# 'true' list for boolean values about each keyword\n",
    "\ttrue = []\n",
    "\tfor k in keyword:\n",
    "\t\ttrue.append(branch['주소'].str.contains(k))\n",
    "\ttrue = pd.DataFrame(true).T\n",
    "\t\n",
    "\t# return [True, True] row on address column\n",
    "\tresult = []\n",
    "\tfor i in range(len(true)):\n",
    "\t\tif all(true.loc[i]):\n",
    "\t\t\tresult.append(branch.loc[i, ['주소', '전화번호']])\n",
    "\t\t\tresult = pd.DataFrame(result)\n",
    "\t\t\tprint('-' * 20)\n",
    "\t\t\tprint(f'검색된 매장 수: {len(result)}')\n",
    "\t\t\tprint('-' * 20)\n",
    "\t\t\tfor n in range(len(result)):\n",
    "\t\t\t\tprint(f'[{n+1:3d}]: [\\'{result[\"주소\"][n]}\\', \\'{result[\"전화번호\"][n]}\\']')\n",
    "\tprint()\n",
    "\n",
    "\n",
    "if __name__ == '__main__':\n",
    "\tmain()\n",
    "\tcity = input('검색할 매장의 도시를 입력하세요: ')\n",
    "\tfindHollys(city)\n"
   ]
  }
 ],
 "metadata": {
  "kernelspec": {
   "display_name": "Python 3.9.13 64-bit",
   "language": "python",
   "name": "python3"
  },
  "language_info": {
   "codemirror_mode": {
    "name": "ipython",
    "version": 3
   },
   "file_extension": ".py",
   "mimetype": "text/x-python",
   "name": "python",
   "nbconvert_exporter": "python",
   "pygments_lexer": "ipython3",
   "version": "3.9.13"
  },
  "orig_nbformat": 4,
  "vscode": {
   "interpreter": {
    "hash": "756fa8430cc473c6206bc48a2946f179c5cd918bfcc6504cdaebc17ae54442b7"
   }
  }
 },
 "nbformat": 4,
 "nbformat_minor": 2
}
