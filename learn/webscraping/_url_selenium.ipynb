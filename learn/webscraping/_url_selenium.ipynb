{
 "cells": [
  {
   "cell_type": "markdown",
   "metadata": {},
   "source": [
    "# Extract article on brookings.edu"
   ]
  },
  {
   "cell_type": "code",
   "execution_count": 43,
   "metadata": {},
   "outputs": [],
   "source": [
    "import time\n",
    "import requests\n",
    "from bs4 import BeautifulSoup"
   ]
  },
  {
   "cell_type": "code",
   "execution_count": 16,
   "metadata": {},
   "outputs": [],
   "source": [
    "class Content:\n",
    "\tdef __init__(self, url, title, body) -> None:\n",
    "\t\tself.url = url\n",
    "\t\tself.title = title\n",
    "\t\tself.body = body\n",
    "\n",
    "\n",
    "def scrapBrookings(url):\n",
    "\treq = requests.get(url)\n",
    "\tbsObj = BeautifulSoup(req.text, 'html.parser')\n",
    "\ttitle = bsObj.find('h1').text\n",
    "\tbody = bsObj.find('div', {'class': 'post-body'}).text\n",
    "\treturn Content(url, title, body)"
   ]
  },
  {
   "cell_type": "code",
   "execution_count": null,
   "metadata": {},
   "outputs": [],
   "source": [
    "url = 'https://www.brookings.edu/blog/future-development/2018/01/26/delivering-inclusive-urban-access-3-uncomfortable-truths/'\n",
    "\n",
    "content = scrapBrookings(url)\n",
    "print('Title: {}'.format(content.title))\n",
    "print('URL: {}\\n'.format(content.url))\n",
    "# print(content.body)"
   ]
  },
  {
   "cell_type": "markdown",
   "metadata": {},
   "source": [
    "---\n",
    "# Reuter Contents "
   ]
  },
  {
   "cell_type": "code",
   "execution_count": null,
   "metadata": {},
   "outputs": [],
   "source": [
    "url = 'https://www.reuters.com/article/us-usa-epa-pruitt-idUSKBN19W2D0'"
   ]
  },
  {
   "cell_type": "markdown",
   "metadata": {},
   "source": [
    "---\n",
    "# Internal-link, External-link"
   ]
  },
  {
   "cell_type": "code",
   "execution_count": 19,
   "metadata": {},
   "outputs": [],
   "source": [
    "class Content:\n",
    "\tdef __init__(self, topic, url, title, body):\n",
    "\t\tself.topic = topic\n",
    "\t\tself.url = url\n",
    "\t\tself.title = title\n",
    "\t\tself.body = body\n",
    "\n",
    "\tdef __repr__(self):\n",
    "\t\t'New article found for topic: {}\\n'.format(self.topic)\n",
    "\t\t'URL: {}\\n'.format(self.url)\n",
    "\t\t'TITLE: {}\\n'.format(self.title)\n",
    "\t\t'BODY:\\n{}\\n'.format(self.body)\n",
    "\n",
    "\n",
    "class Website():\n",
    "\tdef __init__(self, name, url, searchURL, resultList,\n",
    "\t\t\t\t resultURL, absoluteURL, titleTag, bodyTag):\n",
    "\t\tself.name = name\n",
    "\t\tself.url = url\n",
    "\t\tself.searchULR = searchURL\n",
    "\t\tself.resultList = resultList\n",
    "\t\tself.resultURL = resultURL\n",
    "\t\tself.absoluteURL = absoluteURL\n",
    "\t\tself.titleTag = titleTag\n",
    "\t\tself.bodyTag = bodyTag\n",
    "\n",
    "\n",
    "class Crawler:\n",
    "\tdef getPage(self, url):\n",
    "\t\ttry:\n",
    "\t\t\treq = requests.get(url)\n",
    "\t\texcept requests.exceptions.RequestException:\n",
    "\t\t\treturn None\n",
    "\t\treturn BeautifulSoup(req.text, 'html.parser')\n",
    "\n",
    "\n",
    "\tdef search(self, topic, site):\n",
    "\t\t# site: <class Website> object\n",
    "\t\tprint('searchURL + topic:', site.searchURL + topic)\n",
    "\n",
    "\t\tbsObj = self.getPage(site.searchURL + topic)\n",
    "\t\tsearchResults = bsObj.select(site.resultList)\n",
    "\n",
    "\t\tfor result in searchResults:\n",
    "\t\t\turl = result.select(site.resultURL)[0].attrs['href']\n",
    "\t\t\tbsObj = self.getPage(self.url + url)\n",
    "\t\t\tif bsObj is None:\n",
    "\t\t\t\tprint('Something was wrong with that page or URL')\n",
    "\t\t\t\treturn\n",
    "\t\t\ttitle = self.safeGet(bsObj, site.titleTag)\n",
    "\t\t\tbody = self.getAllBody(bsObj, site.bodyTag)\n",
    "\n",
    "\t\t\tif title != '' and body != '':\n",
    "\t\t\t\tcontent = Content(topic, url, title, body)\n",
    "\t\t\t\tcontent.__repr__"
   ]
  },
  {
   "cell_type": "code",
   "execution_count": 28,
   "metadata": {},
   "outputs": [
    {
     "data": {
      "text/plain": [
       "'https://www.reuters.com'"
      ]
     },
     "execution_count": 28,
     "metadata": {},
     "output_type": "execute_result"
    }
   ],
   "source": [
    "siteData1 = [\n",
    "\t'Reuters',  # name\n",
    "\t'https://www.reuters.com',  # url\n",
    "\t'https://www.reuters.com/search/news?blob=',  # searchULR\n",
    "\t'div.search-result-content',  # resultList\n",
    "\t'h3.search-result-title > a',  # resultURL\n",
    "\tFalse,  # absoluteURL\n",
    "\t'h1',  # titleTag\n",
    "\t'p.Paragraph-paragraph-2Bgue ArticleBody-para-TD_9x'  # bodyTag\n",
    "]\n",
    "\n",
    "sites = (Website(siteData1[0], siteData1[1], siteData1[2], siteData1[3],\\\n",
    "\t\t\t\t siteData1[4], siteData1[5], siteData1[6], siteData1[7]))\n",
    "\n",
    "sites.url"
   ]
  },
  {
   "cell_type": "markdown",
   "metadata": {},
   "source": [
    "---\n",
    "# Crawling by a link"
   ]
  },
  {
   "cell_type": "code",
   "execution_count": 40,
   "metadata": {},
   "outputs": [
    {
     "name": "stdout",
     "output_type": "stream",
     "text": [
      "link_list length is 80\n",
      "[   0]: /world/us/\n",
      "[   1]: /world/europe/russia-says-it-hit-military-boat-odesa-port-ukraine-2022-07-24/\n",
      "[   2]: /investigates/\n",
      "[   3]:  https://www.refinitiv.com/en/financial-data\n",
      "[   4]: /world/sherman-kennedy-visit-solomons-where-fathers-fought-us-now-vies-with-china-2022-07-24/\n",
      "[   5]: /lifestyle/sports/nigerias-amusan-breaks-100-metres-hurdles-world-record-2022-07-25/\n",
      "[   6]: /world/\n",
      "[   7]: /technology/\n",
      "[   8]: /lifestyle/sports/quiet-man-vingegaard-wins-maiden-tour-de-france-title-2022-07-24/\n",
      "[   9]: https://www.reuters.com/fact-check/\n",
      "[  10]: /lifestyle/sports/mu-holds-off-hodgkinson-take-800m-gold-2022-07-25/\n",
      "[  11]:  https://www.refinitiv.com/en/products/refinitiv-workspace\n",
      "[  12]: /world/asia-pacific/\n",
      "[  13]: /breakingviews/\n",
      "[  14]: /info-pages/advertising-guidelines/\n",
      "[  15]: https://trdigital.iad1.qualtrics.com/jfe/form/SV_8kte8gArGyCGVhz\n",
      "[  16]: https://www.refinitiv.com/en/products/world-check-kyc-screening\n",
      "[  17]: /world/europe/god-give-us-rain-romanian-monastery-prays-end-drought-2022-07-24/\n",
      "[  18]: /world/us/us-capitol-attack-probe-push-forward-with-new-witnesses-cheney-says-2022-07-24/\n",
      "[  19]: https://www.reutersagency.com/en/?utm_source=website&utm_medium=reuters&utm_campaign=site-referral&utm_content=us&utm_term=0\n",
      "[  20]: /markets/europe/european-central-bank-will-consider-economic-situation-when-deciding-rates-2022-07-24/\n",
      "[  21]: /world/europe/monarch-butterfly-joins-global-endangered-species-list-2022-07-22/\n",
      "[  22]: /world/asia-pacific/us-host-virtual-meeting-tuesday-indo-pacific-trade-economic-ministers-2022-07-24/\n",
      "[  23]: https://www.reuters.com/tools/mobile/us\n",
      "[  24]: /markets/europe/dollar-firm-fed-meeting-growth-risks-dominate-2022-07-25/\n",
      "[  25]: /world/uk/\n",
      "[  26]: /world/asia-pacific/myanmar-junta-execute-four-democracy-activists-state-media-2022-07-25/\n",
      "[  27]: https://tax.thomsonreuters.com/en/onesource\n",
      "[  28]: /lifestyle/sports/\n",
      "[  29]: /world/china/\n",
      "[  30]: /world/africa/tunisians-vote-constitution-expanding-presidents-power-2022-07-25/\n",
      "[  31]: /world/europe/\n",
      "[  32]: /world/europe/zelenskiy-says-ukraine-unbowed-even-russians-expect-defeat-2022-07-24/\n",
      "[  33]: https://www.thomsonreuters.com/en/policies/copyright.html\n",
      "[  34]: /lifestyle/sports/unique-eugene-hosted-truly-global-world-championships-2022-07-25/\n",
      "[  35]: https://www.reutersagency.com/en/about/about-us/brand-attribution-guidelines/\n",
      "[  36]: https://tax.thomsonreuters.com/en/checkpoint\n",
      "[  37]: https://www.reuters.com/info-pages/disclaimer/\n",
      "[  38]: /markets/funds/no-longer-silent-japan-asset-managers-flex-muscle-legacy-abe-2022-07-24/\n",
      "[  39]: https://www.thomsonreuters.com/en/privacy-statement.html\n",
      "[  40]: /business/\n",
      "[  41]: https://www.thomsonreuters.com/en/privacy-statement.html#cookies\n",
      "[  42]: https://newslink.reuters.com/join/subscribe\n",
      "[  43]: https://www.reuters.com/world/europe/\n",
      "[  44]: /world/europe/pictures-inside-battle-ukraine-2022-02-28/\n",
      "[  45]: /world/europe/wildfires-burn-coastal-homes-forests-greece-europes-heatwave-spreads-east-2022-07-24/\n",
      "[  46]: /world/china/chinas-population-expected-start-shrink-before-2025-2022-07-25/\n",
      "[  47]: /world/americas/pope-arrives-canada-tour-penance-indigenous-abuse-2022-07-24/\n",
      "[  48]: https://www.thomsonreuters.com/en/careers.html\n",
      "[  49]: /world/inside-besieged-mariupol-left-ruins-after-russian-bombardment-2022-03-24/\n",
      "[  50]: /world/europe/odesa-strike-shows-it-will-not-be-easy-export-grain-via-ports-ukraine-2022-07-24/\n",
      "[  51]: /world/ukrainian-villagers-count-dead-after-weeks-confined-school-basement-2022-04-08/\n",
      "[  52]: /world/uk/diana-kennedy-british-food-writer-mexico-dies-99-2022-07-24/\n",
      "[  53]: /business/environment/thousands-evacuated-californias-oak-fire-grows-quickly-2022-07-24/\n",
      "[  54]: /legal/\n",
      "[  55]: /lifestyle/\n",
      "[  56]: /world/europe/russian-investigator-says-wants-new-tribunal-ukraine-2022-07-25/\n",
      "[  57]: https://www.reutersagency.com/en/about/leadership-team/\n",
      "[  58]: /world/us/bidens-health-is-improving-no-close-contacts-tested-positive-covid-2022-07-24/\n",
      "[  59]: /business/\n",
      "[  60]: /world/europe/russian-investigator-says-wants-new-tribunal-ukraine-2022-07-25/\n",
      "[  61]: /world/\n",
      "[  62]: /markets/us/us-economy-is-slowing-recession-not-inevitable-yellen-says-2022-07-24/\n",
      "[  63]: https://www.thomsonreuters.com/en/policies/digital-accessibility-policy.html\n",
      "[  64]: https://www.reutersagency.com/en/about/about-us/\n",
      "[  65]: https://www.reuters.com/DiversityReportApril2022\n",
      "[  66]: /world/europe/ukraine-says-18-medics-killed-hundreds-facilities-damaged-since-invasion-2022-07-24/\n",
      "[  67]: /world/europe/ukraine-russia-what-you-need-know-right-now-2022-07-03/\n",
      "[  68]: /world/uk/british-pm-candidate-truss-sets-out-investment-plans-2022-07-24/\n",
      "[  69]: /world/china/china-reports-800-new-covid-cases-july-24-vs-982-day-earlier-2022-07-25/\n",
      "[  70]: /markets/macromatters/\n",
      "[  71]: /world/middle-east/ukraine-works-resume-grain-exports-flags-russian-strikes-risk-2022-07-24/\n",
      "[  72]: /info-pages/contact-us/\n",
      "[  73]: https://www.reutersagency.com/en/services/advertising-solutions/\n",
      "[  74]: /info-pages/terms-of-use/\n",
      "[  75]: /lifestyle/sports/dominant-ingebrigtsen-wins-world-5000m-gold-2022-07-25/\n",
      "[  76]: /markets/\n",
      "[  77]: https://legal.thomsonreuters.com/en/products/westlaw\n",
      "[  78]: /markets/\n",
      "[  79]: /world/europe/lavrov-offers-reassurance-over-russian-grain-supplies-cairo-visit-2022-07-24/\n"
     ]
    }
   ],
   "source": [
    "url = 'https://www.reuters.com'\n",
    "req = requests.get(url)\n",
    "bsObj = BeautifulSoup(req.text, 'html.parser')\n",
    "\n",
    "data_testid_links = bsObj.find_all('a', attrs={'data-testid': ['Heading', 'Link']})\n",
    "\n",
    "link_list = set()\n",
    "for link in data_testid_links:\n",
    "\tlink_list.add(link)\n",
    "\n",
    "print('link_list length is', len(link_list))\n",
    "for i, link in enumerate(link_list):\n",
    "\tprint('[{:4}]: {}'.format(i, link['href']))"
   ]
  },
  {
   "cell_type": "markdown",
   "metadata": {},
   "source": [
    "---\n",
    "# Webcrawling with Selenium"
   ]
  },
  {
   "cell_type": "code",
   "execution_count": 21,
   "metadata": {},
   "outputs": [
    {
     "name": "stdout",
     "output_type": "stream",
     "text": [
      "2 학동역 DT점 서울시 강남구 학동로 211 1층  \n",
      "4 차병원점 서울시 강남구 논현로 566 강남차병원1층  \n",
      "7 강남대로점 서울시 서초구 강남대로 369 1층  \n",
      "      매장이름                         주소          전화번호\n",
      "0  학동역 DT점       서울시 강남구 학동로 211 1층    02-3444-9973\n",
      "1     차병원점  서울시 강남구 논현로 566 강남차병원1층     02-538-7615\n",
      "2    강남대로점      서울시 서초구 강남대로 369 1층     02-588-5778\n"
     ]
    }
   ],
   "source": [
    "import os\n",
    "import time\n",
    "import pandas as pd\n",
    "\n",
    "from bs4 import BeautifulSoup\n",
    "from selenium import webdriver\n",
    "\n",
    "\n",
    "def coffeebean_store(store_list):\n",
    "\turl = 'https://www.coffeebeankorea.com/store/store.asp'\n",
    "\tdriver = webdriver.Chrome()\n",
    "\n",
    "\tfor i in range(1, 11):\n",
    "\t\tdriver.get(url)\n",
    "\t\ttime.sleep(1)\n",
    "\n",
    "\t\tdriver.execute_script('storePop2(%d)' % i)\n",
    "\t\ttime.sleep(1)\n",
    "\t\ttry:\n",
    "\t\t\thtml = driver.page_source\n",
    "\t\t\tbsObj = BeautifulSoup(html, 'html.parser')\n",
    "\t\t# except Exception as e:\n",
    "\t\t# \tprint(e)\n",
    "\t\t# \tcontinue\n",
    "\t\t# else:\n",
    "\t\t\tstore_name = bsObj.select_one('div.store_txt > h2').text\n",
    "\t\t\tstore_info = bsObj.select('div.store_txt > table.store_table > tbody > tr > td')\n",
    "\t\t\tstore_addr_list = list(store_info[2])\n",
    "\t\t\tstore_addr = store_addr_list[0]  # 매장 주소\n",
    "\t\t\tstore_phone = store_info[3].text  # 매장 전화번호\n",
    "\t\t\tprint('{} {} {}'.format(i+1, store_name, store_addr, store_phone))\n",
    "\t\t\tstore_list.append([store_name, store_addr, store_phone])\n",
    "\t\texcept:\n",
    "\t\t\tcontinue\n",
    "\n",
    "\n",
    "def main():\n",
    "\tstore_info = []\n",
    "\tcoffeebean_store(store_info)\n",
    "\n",
    "\t# set store_info data as a DataFrame\n",
    "\tcoffeebean_table = pd.DataFrame(store_info, columns=('매장이름', '주소', '전화번호'))\n",
    "\tprint(coffeebean_table.head())\n",
    "\n",
    "\tcoffeebean_table.to_csv('coffeebean_store.csv', mode='w', encoding='utf-8', index=True)\n",
    "\n",
    "\n",
    "if __name__ == '__main__':\n",
    "\tmain()"
   ]
  },
  {
   "cell_type": "code",
   "execution_count": 51,
   "metadata": {},
   "outputs": [],
   "source": [
    "os.chdir('C:\\\\Users\\\\lh\\\\Downloads\\\\chromedriver_win32')  # excutable path will be deprecated\n",
    "driver = webdriver.Chrome()\n",
    "driver.get('https://www.coffeebeankorea.com/store/store.asp')\n",
    "driver.execute_script('storePop2(1)')  # 학동역(DT)점\n",
    "\n",
    "html = driver.page_source\n",
    "bsObj = BeautifulSoup(html, 'html.parser')\n",
    "# print(bsObj.prettify())\n",
    "\n",
    "store_name = bsObj.select('div.store_txt > p.name > span')\n",
    "store_name_list = []\n",
    "for name in store_name:\n",
    "\tstore_name_list.append(name.get_text())\n",
    "\n",
    "print('[매장 개수] :', len(store_name_list))\n",
    "print(*store_name_list, sep='\\n')\n",
    "\n",
    "store_address = bsObj.select('p.address > span')\n",
    "store_address_list = []\n",
    "\n",
    "for addr in store_address:\n",
    "\tstore_address_list.append(addr.get_text())\n",
    "print()\n",
    "print('[매장 주소] :', *store_address_list, sep='\\n')"
   ]
  }
 ],
 "metadata": {
  "kernelspec": {
   "display_name": "Python 3.9.12 ('base': conda)",
   "language": "python",
   "name": "python3"
  },
  "language_info": {
   "codemirror_mode": {
    "name": "ipython",
    "version": 3
   },
   "file_extension": ".py",
   "mimetype": "text/x-python",
   "name": "python",
   "nbconvert_exporter": "python",
   "pygments_lexer": "ipython3",
   "version": "3.9.12"
  },
  "orig_nbformat": 4,
  "vscode": {
   "interpreter": {
    "hash": "6588f8885393062c84ca3cf98915dd362f3bc7e17a1550b6766decbdfd1308b9"
   }
  }
 },
 "nbformat": 4,
 "nbformat_minor": 2
}
