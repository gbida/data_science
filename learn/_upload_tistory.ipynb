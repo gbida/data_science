{
 "cells": [
  {
   "cell_type": "markdown",
   "metadata": {},
   "source": [
    "# blog automation\n",
    "\n",
    "1. markdown file 처리\n",
    "   - ipynb 파일을 md 파일로 변환해서 저장\n",
    "   - `#` 기호 있는 줄을 제목으로 저장 \n",
    "   - 나머지 부분 Ctrl + a -> body_content로 저장\n",
    "2. open tistory\n",
    "3. login\n",
    "4. markdown mode 진입\n",
    "5. 내용 전달\n",
    "6. publish button click"
   ]
  },
  {
   "cell_type": "code",
   "execution_count": null,
   "metadata": {},
   "outputs": [],
   "source": [
    "from curses import KEY_ENTER\n",
    "import selenium\n",
    "from selenium import webdriver\n",
    "from selenium.webdriver.common.alert import Alert\n",
    "\n",
    "\n",
    "# options = webdriver.ChromeOptions()\n",
    "# options.add_argument('--ignore-certificate-errors')\n",
    "# options.add_argument('--test-type')\n",
    "# options.binary_location='usr/bin/chromiun'\n",
    "# driver = webdriver.Chrome(chrome_options=options)\n",
    "\n",
    "# tistory login\n",
    "driver = webdriver.Chrome()\n",
    "driver.get('https://www.tistory.com/auth/login')\n",
    "driver.execute_script('kakaoAuth()')\n",
    "driver.implicitly_wait(5)\n",
    "\n",
    "id = driver.find_element_by_id('id_email_2')\n",
    "pwd = driver.find_element_by_id('id_password_3')\n",
    "\n",
    "id.send_keys('{}@gmail.com')\n",
    "pwd.send_keys('')\n",
    "driver.find_element_by_xpath('//*[@id=\"login-form\"]/fieldset/div[8]/button[1]').click()\n",
    "\n",
    "# new post\n",
    "newpost = 'https://{}.tistory.com/manage/newpost/?type=post&returnURL=%2Fmanage%2Fposts%2F'\n",
    "driver.get(newpost)\n",
    "\n",
    "# select markdown mode\n",
    "try:\n",
    "\tmdmode = driver.find_element_by_class_name('markdown-editor')\n",
    "except Exception:\n",
    "\tdriver.close()\n",
    "\n",
    "# markdown mode 선택 후 뜨는 알림창 처리\n",
    "# Alert(driver).accept()\n",
    "# Alert(driver).dismiss()\n",
    "Alert(driver).send_keys(KEY_ENTER)\n",
    "\n",
    "# title\n",
    "title = mdmode.find_element_by_id('textarea_tit')\n",
    "title.send_keys('제목')\n",
    "\n",
    "# content\n",
    "body_content = driver.find_element_by_id('ReactCodemirror')\n",
    "body_content.send_keys('내용')\n",
    "\n",
    "# publish\n",
    "publish = driver.find_element_by_id('publish-layer-btn')\n",
    "publish.click()\n",
    "\n",
    "driver.close()"
   ]
  },
  {
   "cell_type": "markdown",
   "metadata": {},
   "source": [
    "---\n",
    "selenium functions"
   ]
  },
  {
   "cell_type": "code",
   "execution_count": null,
   "metadata": {},
   "outputs": [],
   "source": [
    "# driver.implicitly_wait()\n",
    "from selenium.webdriver.common.by import By\n",
    "from selenium.webdriver.support.ui import WebDriverWait\n",
    "from selenium.webdriver.support import expected_conditions as EC\n",
    "\n",
    "driver = webdriver.Chrome('chromedriver')\n",
    "driver.get(url='https://www.google.com/')\n",
    "try:\n",
    "    element = WebDriverWait(driver, 5).until(\n",
    "        EC.presence_of_element_located((By.CLASS_NAME , 'gLFyf'))\n",
    "    )\n",
    "finally:\n",
    "    driver.quit()\n",
    "\n",
    "\n",
    "# frame 밖으로 나가려면\n",
    "driver.switch_to_default_content()\n",
    "\n",
    "# 경고창으로 이동하려면\n",
    "alert = driver.switch_to_alert\n",
    "\n",
    "# 앞뒤로가기\n",
    "driver.forward()\n",
    "driver.back()\n",
    "\n",
    "# 화면 끝으로 내려가면서 내용이 동적으로 추가될때\n",
    "# 웹페이지 최하단으로 내려가는 코드\n",
    "driver.execute_script('window.scrollTo(0, document.body.scrollHeight);')"
   ]
  }
 ],
 "metadata": {
  "kernelspec": {
   "display_name": "Python 3 (ipykernel)",
   "language": "python",
   "name": "python3"
  },
  "language_info": {
   "codemirror_mode": {
    "name": "ipython",
    "version": 3
   },
   "file_extension": ".py",
   "mimetype": "text/x-python",
   "name": "python",
   "nbconvert_exporter": "python",
   "pygments_lexer": "ipython3",
   "version": "3.9.12"
  },
  "vscode": {
   "interpreter": {
    "hash": "6588f8885393062c84ca3cf98915dd362f3bc7e17a1550b6766decbdfd1308b9"
   }
  }
 },
 "nbformat": 4,
 "nbformat_minor": 2
}
