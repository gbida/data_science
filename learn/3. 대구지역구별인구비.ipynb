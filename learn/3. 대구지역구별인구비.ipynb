{
 "cells": [
  {
   "cell_type": "code",
   "execution_count": 24,
   "metadata": {},
   "outputs": [],
   "source": [
    "import csv\n",
    "import re\n",
    "import matplotlib.pyplot as plt\n",
    "import platform"
   ]
  },
  {
   "cell_type": "code",
   "execution_count": 42,
   "metadata": {},
   "outputs": [
    {
     "ename": "ValueError",
     "evalue": "num must be 1 <= num <= 4, not 0",
     "output_type": "error",
     "traceback": [
      "\u001b[1;31m---------------------------------------------------------------------------\u001b[0m",
      "\u001b[1;31mValueError\u001b[0m                                Traceback (most recent call last)",
      "\u001b[1;32mc:\\Users\\lh\\data_science\\learn\\3. 대구지역구별인구비.ipynb 셀 2\u001b[0m in \u001b[0;36m<cell line: 30>\u001b[1;34m()\u001b[0m\n\u001b[0;32m     <a href='vscode-notebook-cell:/c%3A/Users/lh/data_science/learn/3.%20%EB%8C%80%EA%B5%AC%EC%A7%80%EC%97%AD%EA%B5%AC%EB%B3%84%EC%9D%B8%EA%B5%AC%EB%B9%84.ipynb#ch0000001?line=29'>30</a>\u001b[0m \u001b[39mfor\u001b[39;00m n \u001b[39min\u001b[39;00m \u001b[39mrange\u001b[39m(\u001b[39mlen\u001b[39m(daegu_district)\u001b[39m+\u001b[39m\u001b[39m1\u001b[39m):\n\u001b[0;32m     <a href='vscode-notebook-cell:/c%3A/Users/lh/data_science/learn/3.%20%EB%8C%80%EA%B5%AC%EC%A7%80%EC%97%AD%EA%B5%AC%EB%B3%84%EC%9D%B8%EA%B5%AC%EB%B9%84.ipynb#ch0000001?line=30'>31</a>\u001b[0m \t\u001b[39mif\u001b[39;00m n \u001b[39m<\u001b[39m\u001b[39m=\u001b[39m \u001b[39m3\u001b[39m:\n\u001b[1;32m---> <a href='vscode-notebook-cell:/c%3A/Users/lh/data_science/learn/3.%20%EB%8C%80%EA%B5%AC%EC%A7%80%EC%97%AD%EA%B5%AC%EB%B3%84%EC%9D%B8%EA%B5%AC%EB%B9%84.ipynb#ch0000001?line=31'>32</a>\u001b[0m \t\tplt\u001b[39m.\u001b[39;49msubplot(\u001b[39m2\u001b[39;49m, \u001b[39m2\u001b[39;49m, n)\u001b[39m.\u001b[39mpie(rate[n\u001b[39m+\u001b[39m\u001b[39m1\u001b[39m], labels\u001b[39m=\u001b[39m[\u001b[39m'\u001b[39m\u001b[39m남성\u001b[39m\u001b[39m'\u001b[39m, \u001b[39m'\u001b[39m\u001b[39m여성\u001b[39m\u001b[39m'\u001b[39m], autopct\u001b[39m=\u001b[39m\u001b[39m'\u001b[39m\u001b[39m%.1f\u001b[39;00m\u001b[39m%%\u001b[39;00m\u001b[39m'\u001b[39m, startangle\u001b[39m=\u001b[39m\u001b[39m90\u001b[39m)\n\u001b[0;32m     <a href='vscode-notebook-cell:/c%3A/Users/lh/data_science/learn/3.%20%EB%8C%80%EA%B5%AC%EC%A7%80%EC%97%AD%EA%B5%AC%EB%B3%84%EC%9D%B8%EA%B5%AC%EB%B9%84.ipynb#ch0000001?line=32'>33</a>\u001b[0m \t\tplt\u001b[39m.\u001b[39mtitle(city \u001b[39m+\u001b[39m daegu_district[n])\n\u001b[0;32m     <a href='vscode-notebook-cell:/c%3A/Users/lh/data_science/learn/3.%20%EB%8C%80%EA%B5%AC%EC%A7%80%EC%97%AD%EA%B5%AC%EB%B3%84%EC%9D%B8%EA%B5%AC%EB%B9%84.ipynb#ch0000001?line=33'>34</a>\u001b[0m \t\tplt\u001b[39m.\u001b[39maxis(\u001b[39m'\u001b[39m\u001b[39mequal\u001b[39m\u001b[39m'\u001b[39m)\n",
      "File \u001b[1;32mc:\\Users\\lh\\Programs\\Python3.9.13\\lib\\site-packages\\matplotlib\\pyplot.py:1289\u001b[0m, in \u001b[0;36msubplot\u001b[1;34m(*args, **kwargs)\u001b[0m\n\u001b[0;32m   1286\u001b[0m fig \u001b[39m=\u001b[39m gcf()\n\u001b[0;32m   1288\u001b[0m \u001b[39m# First, search for an existing subplot with a matching spec.\u001b[39;00m\n\u001b[1;32m-> 1289\u001b[0m key \u001b[39m=\u001b[39m SubplotSpec\u001b[39m.\u001b[39;49m_from_subplot_args(fig, args)\n\u001b[0;32m   1291\u001b[0m \u001b[39mfor\u001b[39;00m ax \u001b[39min\u001b[39;00m fig\u001b[39m.\u001b[39maxes:\n\u001b[0;32m   1292\u001b[0m     \u001b[39m# if we found an axes at the position sort out if we can re-use it\u001b[39;00m\n\u001b[0;32m   1293\u001b[0m     \u001b[39mif\u001b[39;00m \u001b[39mhasattr\u001b[39m(ax, \u001b[39m'\u001b[39m\u001b[39mget_subplotspec\u001b[39m\u001b[39m'\u001b[39m) \u001b[39mand\u001b[39;00m ax\u001b[39m.\u001b[39mget_subplotspec() \u001b[39m==\u001b[39m key:\n\u001b[0;32m   1294\u001b[0m         \u001b[39m# if the user passed no kwargs, re-use\u001b[39;00m\n",
      "File \u001b[1;32mc:\\Users\\lh\\Programs\\Python3.9.13\\lib\\site-packages\\matplotlib\\gridspec.py:608\u001b[0m, in \u001b[0;36mSubplotSpec._from_subplot_args\u001b[1;34m(figure, args)\u001b[0m\n\u001b[0;32m    606\u001b[0m \u001b[39melse\u001b[39;00m:\n\u001b[0;32m    607\u001b[0m     \u001b[39mif\u001b[39;00m \u001b[39mnot\u001b[39;00m \u001b[39misinstance\u001b[39m(num, Integral) \u001b[39mor\u001b[39;00m num \u001b[39m<\u001b[39m \u001b[39m1\u001b[39m \u001b[39mor\u001b[39;00m num \u001b[39m>\u001b[39m rows\u001b[39m*\u001b[39mcols:\n\u001b[1;32m--> 608\u001b[0m         \u001b[39mraise\u001b[39;00m \u001b[39mValueError\u001b[39;00m(\n\u001b[0;32m    609\u001b[0m             \u001b[39mf\u001b[39m\u001b[39m\"\u001b[39m\u001b[39mnum must be 1 <= num <= \u001b[39m\u001b[39m{\u001b[39;00mrows\u001b[39m*\u001b[39mcols\u001b[39m}\u001b[39;00m\u001b[39m, not \u001b[39m\u001b[39m{\u001b[39;00mnum\u001b[39m!r}\u001b[39;00m\u001b[39m\"\u001b[39m)\n\u001b[0;32m    610\u001b[0m     i \u001b[39m=\u001b[39m j \u001b[39m=\u001b[39m num\n\u001b[0;32m    611\u001b[0m \u001b[39mreturn\u001b[39;00m gs[i\u001b[39m-\u001b[39m\u001b[39m1\u001b[39m:j]\n",
      "\u001b[1;31mValueError\u001b[0m: num must be 1 <= num <= 4, not 0"
     ]
    },
    {
     "data": {
      "image/png": "[encoded data removed]",
      "text/plain": [
       "<Figure size 432x288 with 8 Axes>"
      ]
     },
     "metadata": {
      "needs_background": "light"
     },
     "output_type": "display_data"
    }
   ],
   "source": [
    "f = open('../../공공데이터수업과제/Data/gender.csv', mode='r', encoding='utf-8')\n",
    "data = csv.reader(f)\n",
    "next(data)\n",
    "\n",
    "rate = []\n",
    "city = '대구광역시 '\n",
    "daegu_district = ['중구', '동구', '서구', '남구', '북구', '수성구', '달서구']\n",
    "\n",
    "for row in data:\n",
    "\tif city in row[0]:\n",
    "\t\tman_rate = (int(row[104]) * 100 / int(row[1]))\n",
    "\t\twoman_rate = (100 - man_rate)\n",
    "\t\trate.append((man_rate, woman_rate))\t\t\t\n",
    "\tfor district in daegu_district:\n",
    "\t\td = city + district\n",
    "\t\tif d in row[0]:\n",
    "\t\t\tman_rate = (int(row[104]) * 100 / int(row[1]))\n",
    "\t\t\twoman_rate = (100 - man_rate)\n",
    "\t\t\trate.append((man_rate, woman_rate))\t\t\t\n",
    "\n",
    "\n",
    "if platform.system() == 'Windows':\n",
    "\tplt.rc('font', family='Malgun Gothic')\n",
    "else:\n",
    "\tplt.rc('font', family='AppleGothic')\n",
    "\n",
    "fig, axes = plt.subplots(2, 4, sharex=True, sharey=True)\n",
    "plt.suptitle(city + '구별 남녀 인구 비율', fontsize=15)\n",
    "\n",
    "for n in range(len(daegu_district)+1):\n",
    "\tif n <= 3:\n",
    "\t\tplt.subplot(2, 2, n).pie(rate[n+1], labels=['남성', '여성'], autopct='%.1f%%', startangle=90)\n",
    "\t\tplt.title(city + daegu_district[n])\n",
    "\t\tplt.axis('equal')\n",
    "\telse: \n",
    "\t\tplt.subplot(2, 2, n).pie(rate[n+1], labels=['남성', '여성'], autopct='%.1f%%', startangle=90)\n",
    "\t\tplt.title(city + daegu_district[n])\n",
    "\t\tplt.axis('equal')\n",
    "# 대구 전체 인구 남녀 비율\n",
    "plt.subplot(2, 2, 8).pie(rate[0], labels=['남성', '여성'], autopct='%.1f%%', startangle=90)\n",
    "plt.title(city + '전체')\n",
    "plt.axis('equal')\n",
    "plt.show()\n"
   ]
  }
 ],
 "metadata": {
  "kernelspec": {
   "display_name": "Python 3.9.13 64-bit",
   "language": "python",
   "name": "python3"
  },
  "language_info": {
   "codemirror_mode": {
    "name": "ipython",
    "version": 3
   },
   "file_extension": ".py",
   "mimetype": "text/x-python",
   "name": "python",
   "nbconvert_exporter": "python",
   "pygments_lexer": "ipython3",
   "version": "3.9.13"
  },
  "orig_nbformat": 4,
  "vscode": {
   "interpreter": {
    "hash": "756fa8430cc473c6206bc48a2946f179c5cd918bfcc6504cdaebc17ae54442b7"
   }
  }
 },
 "nbformat": 4,
 "nbformat_minor": 2
}
